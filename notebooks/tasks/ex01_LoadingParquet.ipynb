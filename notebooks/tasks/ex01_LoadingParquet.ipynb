{
 "cells": [
  {
   "cell_type": "markdown",
   "id": "cd166956-b7d0-492d-a14b-5c0fdccc0c41",
   "metadata": {
    "tags": []
   },
   "source": [
    "# Exercise 01 - Projecting Parquet Files\n",
    "\n",
    "In this case, we're going to create a super simple _monopartite_ graph like:\n",
    "\n",
    "```\n",
    "(:User)-[:REFERRED]->(:User)\n",
    "```\n",
    "\n",
    "We have 2 input files (for local users):\n",
    "- `~/input/user.parquet` -- our users\n",
    "- `~/input/referred.parquet` -- our relationships\n",
    "\n",
    "For non-local users wanting to pull from the internet:\n",
    "- `https://storage.googleapis.com/neo4j-se-public/training/user.parquet`\n",
    "- `https://storage.googleapis.com/neo4j-se-public/training/referred.parquet`"
   ]
  },
  {
   "cell_type": "code",
   "execution_count": null,
   "id": "a19c854d-061e-473d-b304-65aff7314ba7",
   "metadata": {},
   "outputs": [],
   "source": [
    "%%capture\n",
    "%pip install -U graphdatascience pandas ipywidgets\n",
    "%pip install https://github.com/neo4j-field/checker/releases/download/0.4.1/checker-0.4.1.tar.gz"
   ]
  },
  {
   "cell_type": "code",
   "execution_count": null,
   "id": "7fbd81d1-3cdf-436e-8c89-6849a094603b",
   "metadata": {},
   "outputs": [],
   "source": [
    "import pandas as pd\n",
    "import answers.checker as c\n",
    "\n",
    "from graphdatascience import GraphDataScience"
   ]
  },
  {
   "cell_type": "code",
   "execution_count": null,
   "id": "3e55dbc2-791f-4efa-b22a-74b0a41201c9",
   "metadata": {},
   "outputs": [],
   "source": [
    "# Update this if you're running locally with the provided Docker instances.\n",
    "USE_TLS = True\n",
    "NEO4J_HOST = \"nodes.neo4j.academy\"\n",
    "NEO4J_URI = f\"neo4j{'+s' * int(USE_TLS)}://{NEO4J_HOST}:7687\"\n",
    "NEO4J_AUTH = (\"user255\", \"xxxx\")"
   ]
  },
  {
   "cell_type": "markdown",
   "id": "bf59170f-dcc3-4734-8e6e-d72118af743a",
   "metadata": {},
   "source": [
    "---\n",
    "<br><br>"
   ]
  },
  {
   "cell_type": "markdown",
   "id": "cc8638c2-646d-450c-b10a-4e4cf1288b2c",
   "metadata": {},
   "source": [
    "## Task 1: Initialize the GDS Client\n",
    "\n",
    "We need a client talking to our `NEO4J_HOST`, so let's initialize a connection.\n",
    "\n",
    "Make sure the client referenced by a variable named `gds`.\n",
    "\n",
    "> Don't forget to `set_database()`!"
   ]
  },
  {
   "cell_type": "code",
   "execution_count": null,
   "id": "bf270cd6-f6ae-4459-a5a3-14353c2a7ed8",
   "metadata": {},
   "outputs": [],
   "source": [
    "gds = None"
   ]
  },
  {
   "cell_type": "markdown",
   "id": "d92f9bff-20e9-4c4d-b054-4cd048977576",
   "metadata": {
    "tags": []
   },
   "source": [
    "### Task 1: Check Your Work"
   ]
  },
  {
   "cell_type": "code",
   "execution_count": null,
   "id": "ac945852-0a28-4769-9791-79e39d1d598c",
   "metadata": {},
   "outputs": [],
   "source": [
    "# Don't change this cell.\n",
    "c.check_result(\"Ex 01\", \"Task 1\", gds=gds)"
   ]
  },
  {
   "cell_type": "markdown",
   "id": "376a405e-822c-47d9-8a37-c2d6ecb2a74f",
   "metadata": {},
   "source": [
    "---\n",
    "<br><br>"
   ]
  },
  {
   "cell_type": "markdown",
   "id": "2777d6cf-8ec7-4aaf-ae93-6c7d8cddde9c",
   "metadata": {},
   "source": [
    "## Task 2: Collect Our Nodes\n",
    "\n",
    "Let's first load our `User` nodes. They're in a single Parquet file, so it's easy to read it into a Pandas DataFrame using the `read_parquet` function.\n",
    "\n",
    "> See the docs: https://pandas.pydata.org/docs/reference/api/pandas.read_parquet.html"
   ]
  },
  {
   "cell_type": "code",
   "execution_count": null,
   "id": "155d2ef4-9fac-4fe6-bd87-8db962caa44b",
   "metadata": {},
   "outputs": [],
   "source": [
    "users = None"
   ]
  },
  {
   "cell_type": "markdown",
   "id": "6484935c-aaaa-4a8a-9017-fe6280a8bf74",
   "metadata": {},
   "source": [
    "### Task 2: Check Your Work"
   ]
  },
  {
   "cell_type": "code",
   "execution_count": null,
   "id": "ac8194a6-79ab-4266-9bc7-3cda22a4f795",
   "metadata": {},
   "outputs": [],
   "source": [
    "# Don't change this cell.\n",
    "c.check_result(\"Ex 01\", \"Task 2\", users=users)\n",
    "users"
   ]
  },
  {
   "cell_type": "markdown",
   "id": "c038dcf2-473f-43eb-8516-ca25136b987c",
   "metadata": {},
   "source": [
    "---\n",
    "<br><br>"
   ]
  },
  {
   "cell_type": "markdown",
   "id": "77ddbeda-958a-4de8-8974-aacf8d85b972",
   "metadata": {},
   "source": [
    "## Task 3: Collect Your Relationships\n",
    "This should be easy now that you've learned how to load your nodes.\n",
    "\n",
    "> Remember: the relationships are in: `https://storage.googleapis.com/neo4j-se-public/training/referred.parquet`"
   ]
  },
  {
   "cell_type": "code",
   "execution_count": null,
   "id": "d32e1b1b-d69e-4dd4-85b1-134e4fe24f1d",
   "metadata": {},
   "outputs": [],
   "source": [
    "referred = None"
   ]
  },
  {
   "cell_type": "markdown",
   "id": "00f2e10e-41af-4bbc-b4e6-3e1b79cb2fc5",
   "metadata": {},
   "source": [
    "### Task 3: Check Your Work"
   ]
  },
  {
   "cell_type": "code",
   "execution_count": null,
   "id": "14640dd3-32e3-4b20-825b-527a342d6071",
   "metadata": {},
   "outputs": [],
   "source": [
    "c.check_result(\"Ex 01\", \"Task 3\", referred=referred)\n",
    "referred"
   ]
  },
  {
   "cell_type": "markdown",
   "id": "b843a9e2-5a89-4e40-9bac-b2cce8f90c44",
   "metadata": {},
   "source": [
    "---\n",
    "<br>\n",
    "<br>"
   ]
  },
  {
   "cell_type": "markdown",
   "id": "7dc2edbe-a569-4a7b-88cf-a1485e20d2ba",
   "metadata": {},
   "source": [
    "## Task 4: Project the Graph\n",
    "Now let's actually project our graph!\n",
    "\n",
    "Take the node and relationship dataframes you've created and use `gds.alpha.graph.construct` to project a graph `G` named `\"Exercise-01\"`.\n",
    "\n",
    "See https://neo4j.com/docs/graph-data-science-client/current/graph-object/#_constructing_a_graph\n"
   ]
  },
  {
   "cell_type": "code",
   "execution_count": null,
   "id": "a4b6c1f0-8d93-4f24-ad8f-c846445dcf26",
   "metadata": {},
   "outputs": [],
   "source": [
    "G = None"
   ]
  },
  {
   "cell_type": "code",
   "execution_count": null,
   "id": "57b44047-a68b-4d65-99eb-47fdaba6a223",
   "metadata": {},
   "outputs": [],
   "source": [
    "c.check_result(\"Ex 01\", \"Task 4\", G=G)\n",
    "G.node_count(), G.relationship_count(), G.node_labels(), G.relationship_types()"
   ]
  },
  {
   "cell_type": "markdown",
   "id": "e4e262b0-33d2-4ced-83f0-70b3ba11a708",
   "metadata": {},
   "source": [
    "---\n",
    "<br>\n",
    "<br>"
   ]
  },
  {
   "cell_type": "markdown",
   "id": "898601aa-8390-4f41-abc9-285325cf2377",
   "metadata": {},
   "source": [
    "## Task 5: Run WCC\n",
    "\n",
    "Now to make sure you really loaded the data correctly, let's run WCC (my favorite algo) and find the number of unique components. \n",
    "\n",
    "Make sure to store the results in an object called `wcc_components`.\n",
    "\n",
    "> Hint: you can select the series from a DataFrame and run `.unique()` on it. See https://pandas.pydata.org/docs/getting_started/intro_tutorials/03_subset_data.html#how-do-i-select-specific-columns-from-a-dataframe"
   ]
  },
  {
   "cell_type": "code",
   "execution_count": null,
   "id": "29457492-1aac-4aa5-b97e-c915c87bbcc8",
   "metadata": {},
   "outputs": [],
   "source": [
    "wcc = None"
   ]
  },
  {
   "cell_type": "code",
   "execution_count": null,
   "id": "7a125983-12d0-4754-9065-1e41e3d68068",
   "metadata": {},
   "outputs": [],
   "source": [
    "c.check_result(\"Ex 01\", \"Task 5\", wcc_components=wcc_components)\n",
    "f\"You found {wcc_components} components!\""
   ]
  },
  {
   "cell_type": "markdown",
   "id": "c6d652a9-794d-40fa-989e-f5cc86c1c51b",
   "metadata": {},
   "source": [
    "---\n",
    "<br>\n",
    "<br>\n",
    "\n",
    "## Bonus Task: Find the Top 10 Largest Component without Cypher\n",
    "As an extra task, to test your Pandas aptitute, can you find the component ids of the _top 10 largest components_ without Cypher or persisting to the database?\n",
    "\n",
    "> Assign this DataFrame to a variable named `top10`."
   ]
  },
  {
   "cell_type": "code",
   "execution_count": null,
   "id": "1baa9b2e-224c-4eef-b137-fc470908cb68",
   "metadata": {},
   "outputs": [],
   "source": [
    "top10 = None"
   ]
  },
  {
   "cell_type": "code",
   "execution_count": null,
   "id": "14c924ab-2201-40b4-a140-4f88efa86192",
   "metadata": {},
   "outputs": [],
   "source": [
    "c.check_result(\"Ex 01\", \"Bonus\", top10=top10)\n",
    "top10"
   ]
  },
  {
   "cell_type": "markdown",
   "id": "f69980d5-19f5-4a0f-b4ae-371b4a6efe91",
   "metadata": {},
   "source": [
    "---\n",
    "<br><br>\n",
    "\n",
    "# Cleanup!🧹\n",
    "\n",
    "Now you can `drop()` your graph."
   ]
  },
  {
   "cell_type": "code",
   "execution_count": null,
   "id": "3889475e-239a-42dd-8296-1a22383c5da9",
   "metadata": {},
   "outputs": [],
   "source": [
    "G.drop()"
   ]
  }
 ],
 "metadata": {
  "kernelspec": {
   "display_name": "Python 3 (ipykernel)",
   "language": "python",
   "name": "python3"
  },
  "language_info": {
   "codemirror_mode": {
    "name": "ipython",
    "version": 3
   },
   "file_extension": ".py",
   "mimetype": "text/x-python",
   "name": "python",
   "nbconvert_exporter": "python",
   "pygments_lexer": "ipython3",
   "version": "3.10.6"
  }
 },
 "nbformat": 4,
 "nbformat_minor": 5
}
