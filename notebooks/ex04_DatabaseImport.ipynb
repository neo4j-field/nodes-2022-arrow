{
 "cells": [
  {
   "cell_type": "markdown",
   "id": "4c61a1be-d5ae-4c85-90dd-62d07bd7c788",
   "metadata": {
    "id": "ea620ed9-1c11-4c7b-aa07-4df3748be8cc",
    "tags": []
   },
   "source": [
    "# Exercise 04 - Building a Database via Apache Arrow\n",
    "\n",
    "Remember our graph from _Exercise 02_?\n",
    "\n",
    "```\n",
    "(:User)-[:HAS_IP]->(:IP)\n",
    "```\n",
    "\n",
    "Let's take the same dataset, but this time we're going to build a **database** using the `neo4j_arrow` client!\n",
    "\n",
    "Recall that before we did:\n",
    "\n",
    "```python\n",
    "df = pd.read_parquet(\"https://storage.googleapis.com/neo4j-se-public/training/user.parquet\")\n",
    "users = pa.Table.from_pandas(df)\n",
    "\n",
    "df = pd.read_parquet(\"https://storage.googleapis.com/neo4j-se-public/training/ip.parquet\")\n",
    "ips = pa.Table.from_pandas(df)\n",
    "\n",
    "df = pd.read_parquet(\"https://storage.googleapis.com/neo4j-se-public/training/has_ip.parquet\")\n",
    "has_ip = pa.Table.from_pandas(df)\n",
    "```\n",
    "\n",
    "> ...or we used https urls.\n",
    "\n",
    "Now you should use what you learned in _Exercise 03_ to do it the PyArrow way."
   ]
  },
  {
   "cell_type": "code",
   "execution_count": null,
   "id": "081027e2-1c59-4e0a-b766-03495861a0d4",
   "metadata": {},
   "outputs": [],
   "source": [
    "%%capture\n",
    "%pip install https://github.com/neo4j-field/neo4j_arrow/releases/download/0.1.1/neo4j_arrow-0.1.1.tar.gz\n",
    "%pip install https://github.com/neo4j-field/checker/releases/download/0.4.1/checker-0.4.1.tar.gz"
   ]
  },
  {
   "cell_type": "code",
   "execution_count": null,
   "id": "4edada57-1159-46c2-96f5-a75043d9bebd",
   "metadata": {},
   "outputs": [],
   "source": [
    "import pandas as pd\n",
    "\n",
    "import pyarrow as pa\n",
    "import pyarrow.parquet\n",
    "import answers.checker as c\n",
    "\n",
    "from neo4j_arrow import Neo4jArrowClient"
   ]
  },
  {
   "cell_type": "code",
   "execution_count": null,
   "id": "1d77be74-32af-434b-8aa9-e1a720a7a192",
   "metadata": {},
   "outputs": [],
   "source": [
    "# Update this if you're not running locally with the provided Docker instances.\n",
    "USE_TLS = False\n",
    "NEO4J_HOST = \"neo4j.arrow\"\n",
    "NEO4J_URI = f\"neo4j{'+s' * int(USE_TLS)}://{NEO4J_HOST}:7687\"\n",
    "NEO4J_AUTH = (\"neo4j\", \"password\")"
   ]
  },
  {
   "cell_type": "code",
   "execution_count": null,
   "id": "47484b74-3458-41cc-9d62-0033edca9230",
   "metadata": {},
   "outputs": [],
   "source": [
    "client = Neo4jArrowClient(NEO4J_HOST,    # host or ip\n",
    "                          \"Exercise-04\", # graph projection name (still required for now)\n",
    "                          port=8491,\n",
    "                          tls=USE_TLS,\n",
    "                          user=NEO4J_AUTH[0],\n",
    "                          password=NEO4J_AUTH[1],\n",
    ")"
   ]
  },
  {
   "cell_type": "markdown",
   "id": "1447d721-93dc-4dc9-a1a5-8ccd4eeae4ee",
   "metadata": {},
   "source": [
    "---\n",
    "<br><br>"
   ]
  },
  {
   "cell_type": "markdown",
   "id": "6b306153-be3c-4b19-a12e-a6ebdc7b9891",
   "metadata": {},
   "source": [
    "### Task 1: Prepare our Data as PyArrow Tables 🧮\n",
    "\n",
    "Use what you learned in _Exercise 03_ to load the `User`, `IP`, and `HAS_IP` datasets. Call them `users`, `ips`, and `has_ip` respectively."
   ]
  },
  {
   "cell_type": "code",
   "execution_count": null,
   "id": "c7cf93c1-00d0-4c8d-a85c-5a6dd66c17ba",
   "metadata": {},
   "outputs": [],
   "source": [
    "df = None # Finish me\n",
    "users = None # Finish me\n",
    "\n",
    "df = None # Finish me\n",
    "ips = None # Finish me\n",
    "\n",
    "df = None # Finish me\n",
    "has_ip = None # Finish me"
   ]
  },
  {
   "cell_type": "code",
   "execution_count": null,
   "id": "7aec0e64-d420-4d4e-8ace-c4601ff8f381",
   "metadata": {},
   "outputs": [],
   "source": [
    "# Don't change this cell.\n",
    "c.check_result(\"Ex 04\", \"Task 1\", users=users, ips=ips, has_ip=has_ip)"
   ]
  },
  {
   "cell_type": "markdown",
   "id": "2a1a234f-4040-42ba-a790-f83325558784",
   "metadata": {},
   "source": [
    "---\n",
    "<br><br>"
   ]
  },
  {
   "cell_type": "markdown",
   "id": "f547e4d8-71ba-438d-a00d-f8c81293fda5",
   "metadata": {},
   "source": [
    "## Starting our Import\n",
    "\n",
    "This is the primary difference from performing a GDS Graph projection. All we need to do is change some of the input parameters for the `start` message sent to the server.\n",
    "\n",
    "> Note that there are both _different_ and _more_ parameters for database creation! It's common to have to tune these."
   ]
  },
  {
   "cell_type": "code",
   "execution_count": null,
   "id": "3a7fc05e-daed-4e6a-b573-0e22a1526090",
   "metadata": {},
   "outputs": [],
   "source": [
    "config = {\n",
    "    \"name\": \"Exercise-04\",\n",
    "    \"id_type\": \"INTEGER\",        # can be: INTEGER or STRING\n",
    "    \"id_property\": \"nodeId\",\n",
    "    \"record_format\": \"standard\", # can be: standard, aligned, or high_limit\n",
    "    \"force\": True                # overwrite existing db?\n",
    "}\n",
    "\n",
    "client.start(\"CREATE_DATABASE\", config=config)"
   ]
  },
  {
   "cell_type": "markdown",
   "id": "ac362ba1-95db-4d31-b030-5fe54ff98031",
   "metadata": {},
   "source": [
    "---\n",
    "<br><br>"
   ]
  },
  {
   "cell_type": "markdown",
   "id": "c93c4549-5a0b-4ef8-b267-59b066355d2f",
   "metadata": {},
   "source": [
    "### Task 2: Load our Nodes\n",
    "\n",
    "Basically all the steps from here on are the same as when building a GDS Projection. This means you already know how to do this, right? 😜\n",
    "\n",
    "For the users, write them and capture the results as `users_results`. For IPs, use `ips_results`."
   ]
  },
  {
   "cell_type": "code",
   "execution_count": null,
   "id": "7c8277da-6d2e-4291-b69c-08305164cd0a",
   "metadata": {},
   "outputs": [],
   "source": [
    "users_results = None # Finish me\n",
    "ips_results = None # Finish me"
   ]
  },
  {
   "cell_type": "code",
   "execution_count": null,
   "id": "0f1e29c9-f87d-4bd4-907c-ae5f73b63d90",
   "metadata": {},
   "outputs": [],
   "source": [
    "# Don't change this cell.\n",
    "c.check_result(\"Ex 04\", \"Task 2\", \n",
    "               users_results=users_results, ips_results=ips_results)"
   ]
  },
  {
   "cell_type": "markdown",
   "id": "4092c890-7928-4ecf-a76d-d6fa356ee418",
   "metadata": {},
   "source": [
    "---\n",
    "<br><br>"
   ]
  },
  {
   "cell_type": "markdown",
   "id": "6658cdc6-748b-431e-8507-4faf07fe838e",
   "metadata": {},
   "source": [
    "### Task 3: Signal that We're Done with Nodes\n",
    "\n",
    "Easy, right? Now signal we're done with nodes and capture the result as `result`."
   ]
  },
  {
   "cell_type": "code",
   "execution_count": null,
   "id": "84100e87-b975-40d4-92d8-85f87becea37",
   "metadata": {},
   "outputs": [],
   "source": [
    "result = None # Finish me"
   ]
  },
  {
   "cell_type": "code",
   "execution_count": null,
   "id": "21f1d975-2006-4ac6-b48a-d344aab70e8e",
   "metadata": {},
   "outputs": [],
   "source": [
    "# Don't change this cell.\n",
    "c.check_result(\"Ex 04\", \"Task 3\", result = result)"
   ]
  },
  {
   "cell_type": "markdown",
   "id": "c26de056-a1fe-42e9-bbf3-0e82ae535fdc",
   "metadata": {},
   "source": [
    "---\n",
    "<br><br>"
   ]
  },
  {
   "cell_type": "markdown",
   "id": "c01db7b6-02bf-4d7d-bdfc-7e757b9dfea2",
   "metadata": {},
   "source": [
    "### Task 4: Send our Relationships\n",
    "\n",
    "By now, you should know the routine, right? Write the edges and store the response in `result`, please!"
   ]
  },
  {
   "cell_type": "code",
   "execution_count": null,
   "id": "ebbcf521-d927-4fa8-be99-6fa0e87bd9a7",
   "metadata": {},
   "outputs": [],
   "source": [
    "result = None # Finish me"
   ]
  },
  {
   "cell_type": "code",
   "execution_count": null,
   "id": "20414f3b-270a-41d7-b2e9-2b337ca0098e",
   "metadata": {},
   "outputs": [],
   "source": [
    "# Don't change this cell.\n",
    "c.check_result(\"Ex 04\", \"Task 4\", result = result)"
   ]
  },
  {
   "cell_type": "markdown",
   "id": "a9d046f3-c5cb-460c-89b0-c229526622bf",
   "metadata": {},
   "source": [
    "---\n",
    "<br><br>"
   ]
  },
  {
   "cell_type": "markdown",
   "id": "0f719ba8-7187-4da6-a745-1ad554a7da51",
   "metadata": {},
   "source": [
    "### Task 5: Signal our Loading is Done\n",
    "\n",
    "This should be easy by now. You've learned so much. Look at you go.\n",
    "\n",
    "Signal we're done with edges and assign the result message to `result`."
   ]
  },
  {
   "cell_type": "code",
   "execution_count": null,
   "id": "2b7fd7e3-727a-4795-9de3-313e96d7adef",
   "metadata": {},
   "outputs": [],
   "source": [
    "result = None # Finish me"
   ]
  },
  {
   "cell_type": "code",
   "execution_count": null,
   "id": "0289f319-0606-4e3b-9e7a-3da9ccc59660",
   "metadata": {},
   "outputs": [],
   "source": [
    "# Don't change this cell.\n",
    "c.check_result(\"Ex 04\", \"Task 5\", result = result)"
   ]
  },
  {
   "cell_type": "markdown",
   "id": "5942bd27-2b84-4959-88ec-c20190d5b920",
   "metadata": {},
   "source": [
    "---\n",
    "<br><br>"
   ]
  },
  {
   "cell_type": "markdown",
   "id": "fd6b63be-f2b0-49f4-ad4b-f4cbe6edad10",
   "metadata": {},
   "source": [
    "## Validating our Work\n",
    "\n",
    "Now we need to check that we have an actual **database**. The easiest way to do this is to just fire off a Cypher query.\n",
    "\n",
    "But, is the database online yet? The import process is **asynchronous** at this point. Our client is told only that the GDS service has accepted our nodes and relationships.\n",
    "\n",
    "In this case, our dataset is small (~600k nodes, 1.5M edges) and with few properties. "
   ]
  },
  {
   "cell_type": "code",
   "execution_count": null,
   "id": "391ddb96-bb33-4b47-b66a-6d98c424c333",
   "metadata": {},
   "outputs": [],
   "source": [
    "from graphdatascience import GraphDataScience\n",
    "from time import sleep\n",
    "\n",
    "gds = GraphDataScience(NEO4J_URI, auth=NEO4J_AUTH)\n",
    "\n",
    "# Database import is asynchronous. We need to await it's being brought online.\n",
    "# NOTE: it appears names may be slightly changed (uppercase to lowercase)...might be a bug.\n",
    "times = 0\n",
    "while times < 20:\n",
    "    dbs = gds.run_cypher(\n",
    "        \"SHOW DATABASES YIELD name, currentStatus WHERE toLower(name) = $name;\", \n",
    "        params={\"name\": \"exercise-04\"})\n",
    "    if dbs.empty:\n",
    "        times += 1\n",
    "        sleep(1)\n",
    "    else:\n",
    "        break\n",
    "\n",
    "if dbs.empty:\n",
    "    raise Exception(\"database didn't come online! check logs!\")\n",
    "print(\"Found our database online!\")"
   ]
  },
  {
   "cell_type": "code",
   "execution_count": null,
   "id": "c935884e-ee7a-493f-b15f-ff38db8128fb",
   "metadata": {},
   "outputs": [],
   "source": [
    "# Check that we have data!\n",
    "gds.set_database(\"Exercise-04\")\n",
    "\n",
    "df = gds.run_cypher(\"\"\"\n",
    "    MATCH (u:User)-[r:HAS_IP]->(i:IP)\n",
    "    WHERE id(i) = 33968\n",
    "    RETURN id(u) AS user, u.fraudMoneyTransfer, id(r) AS has_ip, id(i) AS ip\n",
    "    LIMIT 10\n",
    "\"\"\")\n",
    "df"
   ]
  },
  {
   "cell_type": "code",
   "execution_count": null,
   "id": "c02ab22c-34c5-4b85-a447-72dbde455bcb",
   "metadata": {},
   "outputs": [],
   "source": [
    "# Drop our database. 👋\n",
    "gds.run_cypher(\"DROP DATABASE `exercise-04`;\")"
   ]
  },
  {
   "cell_type": "markdown",
   "id": "d5d53576-0934-42e5-ba41-9a4f19b39e6b",
   "metadata": {},
   "source": [
    "## Conclusion\n",
    "\n",
    "You should see the following logging on the Neo4j server indicating the various import steps the batch importer performed during database creation:\n",
    "\n",
    "```\n",
    "2022-09-21 19:51:51.647+0000 INFO  [system/00000000] Database import started\n",
    "2022-09-21 19:51:51.671+0000 INFO  [system/00000000] Put command: PutCommand{name=Exercise-04, entityType=node}\n",
    "2022-09-21 19:51:51.682+0000 INFO  [system/00000000] Put stream started\n",
    "2022-09-21 19:51:51.683+0000 INFO  [system/00000000] Put command: PutCommand{name=Exercise-04, entityType=node}\n",
    "2022-09-21 19:51:51.832+0000 INFO  [system/00000000] Received action NODE_LOAD_DONE with configuration NodeLoadDoneAction{name=Exercise-04}\n",
    "2022-09-21 19:51:51.842+0000 INFO  [system/00000000] Put stream started\n",
    "2022-09-21 19:51:51.843+0000 INFO  [system/00000000] Put command: PutCommand{name=Exercise-04, entityType=relationship}\n",
    "2022-09-21 19:51:52.308+0000 INFO  [system/00000000] Received action RELATIONSHIP_LOAD_DONE with configuration RelationshipLoadDoneAction{name=Exercise-04}\n",
    "2022-09-21 19:51:53.036+0000 INFO  [system/00000000] Nodes :: Started\n",
    "2022-09-21 19:51:54.788+0000 INFO  [system/00000000] Nodes :: Finished\n",
    "2022-09-21 19:51:54.797+0000 INFO  [system/00000000] Prepare node index :: Started\n",
    "2022-09-21 19:51:55.195+0000 INFO  [system/00000000] Prepare node index :: Finished\n",
    "2022-09-21 19:51:55.253+0000 INFO  [system/00000000] Relationships :: Started\n",
    "2022-09-21 19:51:57.888+0000 INFO  [system/00000000] Relationships :: Finished\n",
    "2022-09-21 19:51:57.914+0000 INFO  [system/00000000] Node Degrees :: Started\n",
    "2022-09-21 19:51:58.127+0000 INFO  [system/00000000] Node Degrees :: Finished\n",
    "2022-09-21 19:51:58.247+0000 INFO  [system/00000000] Relationship --> Relationship :: Started\n",
    "2022-09-21 19:51:58.622+0000 INFO  [system/00000000] Relationship --> Relationship :: Finished\n",
    "2022-09-21 19:51:58.634+0000 INFO  [system/00000000] RelationshipGroup :: Started\n",
    "2022-09-21 19:51:58.762+0000 INFO  [system/00000000] RelationshipGroup :: Finished\n",
    "2022-09-21 19:51:58.781+0000 INFO  [system/00000000] Node --> Relationship :: Started\n",
    "2022-09-21 19:51:59.088+0000 INFO  [system/00000000] Node --> Relationship :: Finished\n",
    "2022-09-21 19:51:59.134+0000 INFO  [system/00000000] Relationship <-- Relationship :: Started\n",
    "2022-09-21 19:51:59.510+0000 INFO  [system/00000000] Relationship <-- Relationship :: Finished\n",
    "2022-09-21 19:51:59.546+0000 INFO  [system/00000000] Count groups :: Started\n",
    "2022-09-21 19:51:59.556+0000 INFO  [system/00000000] Count groups :: Finished\n",
    "2022-09-21 19:51:59.608+0000 INFO  [system/00000000] Gather :: Started\n",
    "2022-09-21 19:51:59.639+0000 INFO  [system/00000000] Gather :: Finished\n",
    "2022-09-21 19:51:59.643+0000 INFO  [system/00000000] Write :: Started\n",
    "2022-09-21 19:51:59.653+0000 INFO  [system/00000000] Write :: Finished\n",
    "2022-09-21 19:51:59.681+0000 INFO  [system/00000000] Node --> Group :: Started\n",
    "2022-09-21 19:51:59.691+0000 INFO  [system/00000000] Node --> Group :: Finished\n",
    "2022-09-21 19:51:59.729+0000 INFO  [system/00000000] Node counts and label index build :: Started\n",
    "2022-09-21 19:52:00.074+0000 INFO  [system/00000000] Node counts and label index build :: Finished\n",
    "2022-09-21 19:52:00.109+0000 INFO  [system/00000000] Relationship counts and relationship type index build :: Started\n",
    "2022-09-21 19:52:00.612+0000 INFO  [system/00000000] Relationship counts and relationship type index build :: Finished\n",
    "2022-09-21 19:52:00.732+0000 INFO  [system/00000000] Database import finished after 9083 ms\n",
    "2022-09-21 19:52:01.837+0000 INFO  [system/00000000] Database created and started after 1104 ms\n",
    "```"
   ]
  }
 ],
 "metadata": {
  "kernelspec": {
   "display_name": "Python 3 (ipykernel)",
   "language": "python",
   "name": "python3"
  },
  "language_info": {
   "codemirror_mode": {
    "name": "ipython",
    "version": 3
   },
   "file_extension": ".py",
   "mimetype": "text/x-python",
   "name": "python",
   "nbconvert_exporter": "python",
   "pygments_lexer": "ipython3",
   "version": "3.10.6"
  }
 },
 "nbformat": 4,
 "nbformat_minor": 5
}
