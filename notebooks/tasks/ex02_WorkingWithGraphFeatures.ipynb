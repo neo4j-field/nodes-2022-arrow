{
 "cells": [
  {
   "cell_type": "markdown",
   "id": "ea620ed9-1c11-4c7b-aa07-4df3748be8cc",
   "metadata": {
    "id": "ea620ed9-1c11-4c7b-aa07-4df3748be8cc",
    "tags": []
   },
   "source": [
    "# Exercise 02 - Pulling out Graph Features at Scale\n",
    "\n",
    "Since we covered the basics of data loading in `Exercise 01`, we're going to skip that here and quickly start with a \"prebuilt\" graph. (Just run the first few cells below.)\n",
    "\n",
    "This time, however, we're going to use a _bipartite_ graph:\n",
    "\n",
    "```\n",
    "(:User)-[:HAS_IP]->(:IP)\n",
    "```\n"
   ]
  },
  {
   "cell_type": "code",
   "execution_count": null,
   "id": "fe664c61-a67d-413a-8cf7-4de7a01f5f4f",
   "metadata": {
    "id": "fe664c61-a67d-413a-8cf7-4de7a01f5f4f",
    "tags": []
   },
   "outputs": [],
   "source": [
    "%%capture\n",
    "%pip install -U graphdatascience pandas ipywidgets\n",
    "%pip install https://github.com/neo4j-field/checker/releases/download/0.4.1/checker-0.4.1.tar.gz"
   ]
  },
  {
   "cell_type": "code",
   "execution_count": null,
   "id": "9cf56deb-9130-4ecb-9ebf-171c0c676805",
   "metadata": {},
   "outputs": [],
   "source": [
    "import pandas as pd\n",
    "import answers.checker as c\n",
    "\n",
    "from graphdatascience import GraphDataScience"
   ]
  },
  {
   "cell_type": "code",
   "execution_count": null,
   "id": "3e55dbc2-791f-4efa-b22a-74b0a41201c9",
   "metadata": {},
   "outputs": [],
   "source": [
    "# Update this if you're running locally with the provided Docker instances.\n",
    "USE_TLS = True\n",
    "NEO4J_HOST = \"nodes.neo4j.academy\"\n",
    "NEO4J_URI = f\"neo4j{'+s' * int(USE_TLS)}://{NEO4J_HOST}:7687\"\n",
    "NEO4J_AUTH = (\"user255\", \"xxxx\")"
   ]
  },
  {
   "cell_type": "code",
   "execution_count": null,
   "id": "8ba5fc2e-61e2-47d5-ae7f-6ff7678337ed",
   "metadata": {
    "id": "3d7b6e00-35ec-4533-b15b-e73376c17dbf"
   },
   "outputs": [],
   "source": [
    "# If you're running locally, use the following:\n",
    "\n",
    "users = pd.read_parquet(\"https://storage.googleapis.com/neo4j-se-public/training/user.parquet\")\n",
    "ips = pd.read_parquet(\"https://storage.googleapis.com/neo4j-se-public/training/ip.parquet\")\n",
    "has_ip = pd.read_parquet(\"https://storage.googleapis.com/neo4j-se-public/training/has_ip.parquet\")"
   ]
  },
  {
   "cell_type": "markdown",
   "id": "EfLVzyQG-Ami",
   "metadata": {
    "id": "EfLVzyQG-Ami"
   },
   "source": [
    "# Preview of our Data\n",
    "\n",
    "Let's take a quick look at what our nodes and relationships look like."
   ]
  },
  {
   "cell_type": "code",
   "execution_count": null,
   "id": "886b7849-7ae6-445b-a7ef-302f022b317a",
   "metadata": {
    "colab": {
     "base_uri": "https://localhost:8080/",
     "height": 424
    },
    "id": "886b7849-7ae6-445b-a7ef-302f022b317a",
    "outputId": "62f5c20a-a60b-44a7-8f72-1982285889f8"
   },
   "outputs": [],
   "source": [
    "ips"
   ]
  },
  {
   "cell_type": "code",
   "execution_count": null,
   "id": "8d3aaab6-220f-4cfe-a951-ac208f1384f5",
   "metadata": {
    "colab": {
     "base_uri": "https://localhost:8080/",
     "height": 424
    },
    "id": "8d3aaab6-220f-4cfe-a951-ac208f1384f5",
    "outputId": "2d1b9dcc-fe7e-4d97-c0a9-b00476299d68"
   },
   "outputs": [],
   "source": [
    "users"
   ]
  },
  {
   "cell_type": "code",
   "execution_count": null,
   "id": "LS5n0ZWY_iB7",
   "metadata": {
    "colab": {
     "base_uri": "https://localhost:8080/",
     "height": 424
    },
    "id": "LS5n0ZWY_iB7",
    "outputId": "54d6f8d7-40b1-4717-ba24-c847b65e7373"
   },
   "outputs": [],
   "source": [
    "has_ip"
   ]
  },
  {
   "cell_type": "code",
   "execution_count": null,
   "id": "gYsXKitH_jUQ",
   "metadata": {
    "colab": {
     "base_uri": "https://localhost:8080/",
     "height": 49
    },
    "id": "gYsXKitH_jUQ",
    "outputId": "c649a217-ae41-4d01-90b4-ec0bf50ef27a"
   },
   "outputs": [],
   "source": [
    "gds = GraphDataScience(NEO4J_URI, auth=NEO4J_AUTH)\n",
    "gds.set_database(NEO4J_AUTH[0])"
   ]
  },
  {
   "cell_type": "code",
   "execution_count": null,
   "id": "R58INX4zeShd",
   "metadata": {
    "id": "R58INX4zeShd"
   },
   "outputs": [],
   "source": [
    "G = gds.alpha.graph.construct(\"Exercise-02\", [ips, users], [has_ip])"
   ]
  },
  {
   "cell_type": "markdown",
   "id": "70ed17aa-bd7f-4c65-986a-b6d7b6a29f7e",
   "metadata": {},
   "source": [
    "## Generating some Features\n",
    "\n",
    "Let's pretend we need to generate node embeddings representing `User`s and their relationships to other `User`s by `IP`."
   ]
  },
  {
   "cell_type": "markdown",
   "id": "bed303b2-3db3-4f88-b41f-9b22a387381b",
   "metadata": {},
   "source": [
    "---\n",
    "<br><br>"
   ]
  },
  {
   "cell_type": "markdown",
   "id": "6ba3abc5-18e4-4dce-8570-011b883f22f7",
   "metadata": {},
   "source": [
    "### Task 1. Mutate into a Monopartite Similarity Graph\n",
    "Your first step is to create a monopartite representation using **Node Similarity**.\n",
    "\n",
    "Generate a new relationship type called `SIMILAR_BY_IP` with a relationship weight called `score`.\n",
    "\n",
    "> You might want to increase the `concurrency` setting. This should only take about 1 minute or so."
   ]
  },
  {
   "cell_type": "code",
   "execution_count": null,
   "id": "a42e4cb2-52fb-43f2-8db2-3d9e2fdc36d8",
   "metadata": {},
   "outputs": [],
   "source": [
    "# Mutate our graph here...\n"
   ]
  },
  {
   "cell_type": "code",
   "execution_count": null,
   "id": "d4465c86-c0c6-4d74-bda5-31b54e3e6026",
   "metadata": {},
   "outputs": [],
   "source": [
    "# Don't change this cell.\n",
    "c.check_result(\"Ex 02\", \"Task 1\", G=G)"
   ]
  },
  {
   "cell_type": "markdown",
   "id": "87a427e8-231b-4ce6-9268-5e11e8cba777",
   "metadata": {},
   "source": [
    "---\n",
    "<br><br>"
   ]
  },
  {
   "cell_type": "markdown",
   "id": "32fe6b1a-9dfb-464f-8285-d2916fff51a4",
   "metadata": {},
   "source": [
    "### Task 2. Generate the Embeddings\n",
    "\n",
    "Now we generate the node embedding vectors! We'll use **FastRP**. \n",
    "\n",
    "Mutate the graph and store the embeddings in a property called `fastRP` and make sure to use an embedding of `256`."
   ]
  },
  {
   "cell_type": "code",
   "execution_count": null,
   "id": "60a13383-2983-497c-b76f-afabbf158ca6",
   "metadata": {},
   "outputs": [],
   "source": [
    "# Mutate our graph here...\n"
   ]
  },
  {
   "cell_type": "code",
   "execution_count": null,
   "id": "b62b5c7c-a3f2-451a-bf5a-1bc72710f11f",
   "metadata": {},
   "outputs": [],
   "source": [
    "# Don't change this cell.\n",
    "c.check_result(\"Ex 02\", \"Task 2\", G=G)"
   ]
  },
  {
   "cell_type": "markdown",
   "id": "32246feb-4056-4bfb-9feb-814d1ebbd027",
   "metadata": {},
   "source": [
    "---\n",
    "<br><br>"
   ]
  },
  {
   "cell_type": "markdown",
   "id": "1b7bcea1-9e6b-4c71-9c84-ff6b32dd3774",
   "metadata": {},
   "source": [
    "### Task 3. Dump our Vectors using the Power of Apache Arrow 🏹\n",
    "\n",
    "Now's where the magic happens! Pull back **all** the node embeddings into a single DataFrame. If you tried this with the native Python driver, you'd be twiddling your thumbs for quite some time.\n",
    "\n",
    "> Bonus points if you know how to get the resulting DataFrame to call the embedding vector \"fastRP\".\n",
    "\n",
    "Call this new DataFrame `df`."
   ]
  },
  {
   "cell_type": "code",
   "execution_count": null,
   "id": "89c56e9f-716c-453e-a9b6-fbf3365feb55",
   "metadata": {},
   "outputs": [],
   "source": [
    "%time df = None"
   ]
  },
  {
   "cell_type": "code",
   "execution_count": null,
   "id": "baccdeb7-1d02-45ec-8c18-cd84c45a7766",
   "metadata": {},
   "outputs": [],
   "source": [
    "# Don't change this cell.\n",
    "c.check_result(\"Ex 02\", \"Task 3\", df=df)"
   ]
  },
  {
   "cell_type": "markdown",
   "id": "7d6c9e7f-5730-4252-b547-31021f2fe8b6",
   "metadata": {},
   "source": [
    "### Aside: Ok...is Apache Arrow 🏹 even doing anything? 🤔\n",
    "\n",
    "Proof is in the pudding 🍮, so we'll now show how long it takes to pull back a _fraction_ of the same data using the traditional Python driver calling the `gds.graph.streamNodeProperty` stored procedure."
   ]
  },
  {
   "cell_type": "code",
   "execution_count": null,
   "id": "f209284c-2855-4c50-b3cd-0196c5a0b9f6",
   "metadata": {},
   "outputs": [],
   "source": [
    "from neo4j import GraphDatabase\n",
    "import pandas, time\n",
    "\n",
    "df2 = None\n",
    "t0, t1 = 0.0, 0.0\n",
    "sz = 50_000\n",
    "with GraphDatabase.driver(NEO4J_URI, auth=NEO4J_AUTH) as d:\n",
    "    with d.session() as s:\n",
    "        t0 = time.time()\n",
    "        result = s.run(\"\"\"\n",
    "          CALL gds.graph.nodeProperty.stream('Exercise-02', 'fastRP')\n",
    "          YIELD nodeId, propertyValue\n",
    "          RETURN * LIMIT $limit;\n",
    "        \"\"\", limit=sz)\n",
    "        df2 = result.to_df()\n",
    "        t1 = time.time()\n",
    "\n",
    "print(f\"It took {int(t1 - t0):,} seconds to return your (partial) DataFrame. 🥱\")\n",
    "print(f\"It would probably take {int(len(df) / (sz / (t1 - t0))):,} seconds to return the total thing! 🤯\")\n",
    "display(df2)"
   ]
  },
  {
   "cell_type": "markdown",
   "id": "dcfada6d-5bcb-4753-a814-fada264f851c",
   "metadata": {},
   "source": [
    "---\n",
    "<br><br>\n",
    "\n",
    "# Cleanup!🧹\n",
    "\n",
    "Now you can `drop()` your graph."
   ]
  },
  {
   "cell_type": "code",
   "execution_count": null,
   "id": "3cf67724-4936-4555-a5e8-a525a2eb6b09",
   "metadata": {},
   "outputs": [],
   "source": [
    "G.drop()"
   ]
  }
 ],
 "metadata": {
  "colab": {
   "collapsed_sections": [],
   "provenance": []
  },
  "kernelspec": {
   "display_name": "Python 3 (ipykernel)",
   "language": "python",
   "name": "python3"
  },
  "language_info": {
   "codemirror_mode": {
    "name": "ipython",
    "version": 3
   },
   "file_extension": ".py",
   "mimetype": "text/x-python",
   "name": "python",
   "nbconvert_exporter": "python",
   "pygments_lexer": "ipython3",
   "version": "3.10.6"
  }
 },
 "nbformat": 4,
 "nbformat_minor": 5
}
