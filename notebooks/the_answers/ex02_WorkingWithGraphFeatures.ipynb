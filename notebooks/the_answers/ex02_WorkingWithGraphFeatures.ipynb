{
 "cells": [
  {
   "cell_type": "markdown",
   "id": "ea620ed9-1c11-4c7b-aa07-4df3748be8cc",
   "metadata": {
    "id": "ea620ed9-1c11-4c7b-aa07-4df3748be8cc",
    "tags": []
   },
   "source": [
    "# Exercise 02 - Pulling out Graph Features at Scale\n",
    "\n",
    "Since we covered the basics of data loading in `Exercise 01`, we're going to skip that here and quickly start with a \"prebuilt\" graph. (Just run the first few cells below.)\n",
    "\n",
    "This time, however, we're going to use a _bipartite_ graph:\n",
    "\n",
    "```\n",
    "(:User)-[:HAS_IP]->(:IP)\n",
    "```\n"
   ]
  },
  {
   "cell_type": "code",
   "execution_count": 1,
   "id": "fe664c61-a67d-413a-8cf7-4de7a01f5f4f",
   "metadata": {
    "id": "fe664c61-a67d-413a-8cf7-4de7a01f5f4f",
    "tags": []
   },
   "outputs": [],
   "source": [
    "%%capture\n",
    "%pip install -U graphdatascience pandas ipywidgets\n",
    "%pip install https://github.com/neo4j-field/checker/releases/download/0.4.1/checker-0.4.1.tar.gz"
   ]
  },
  {
   "cell_type": "code",
   "execution_count": 2,
   "id": "9cf56deb-9130-4ecb-9ebf-171c0c676805",
   "metadata": {},
   "outputs": [],
   "source": [
    "import pandas as pd\n",
    "import answers.checker as c\n",
    "\n",
    "from graphdatascience import GraphDataScience"
   ]
  },
  {
   "cell_type": "code",
   "execution_count": 3,
   "id": "3e55dbc2-791f-4efa-b22a-74b0a41201c9",
   "metadata": {},
   "outputs": [],
   "source": [
    "# Update this if you're running locally with the provided Docker instances.\n",
    "USE_TLS = True\n",
    "NEO4J_HOST = \"nodes.neo4j.academy\"\n",
    "NEO4J_URI = f\"neo4j{'+s' * int(USE_TLS)}://{NEO4J_HOST}:7687\"\n",
    "NEO4J_AUTH = (\"user255\", \"xxxx\")"
   ]
  },
  {
   "cell_type": "code",
   "execution_count": 4,
   "id": "8ba5fc2e-61e2-47d5-ae7f-6ff7678337ed",
   "metadata": {
    "id": "3d7b6e00-35ec-4533-b15b-e73376c17dbf"
   },
   "outputs": [],
   "source": [
    "# If you're running locally, use the following:\n",
    "\n",
    "users = pd.read_parquet(\"https://storage.googleapis.com/neo4j-se-public/training/user.parquet\")\n",
    "ips = pd.read_parquet(\"https://storage.googleapis.com/neo4j-se-public/training/ip.parquet\")\n",
    "has_ip = pd.read_parquet(\"https://storage.googleapis.com/neo4j-se-public/training/has_ip.parquet\")"
   ]
  },
  {
   "cell_type": "markdown",
   "id": "EfLVzyQG-Ami",
   "metadata": {
    "id": "EfLVzyQG-Ami"
   },
   "source": [
    "# Preview of our Data\n",
    "\n",
    "Let's take a quick look at what our nodes and relationships look like."
   ]
  },
  {
   "cell_type": "code",
   "execution_count": 5,
   "id": "886b7849-7ae6-445b-a7ef-302f022b317a",
   "metadata": {
    "colab": {
     "base_uri": "https://localhost:8080/",
     "height": 424
    },
    "id": "886b7849-7ae6-445b-a7ef-302f022b317a",
    "outputId": "62f5c20a-a60b-44a7-8f72-1982285889f8"
   },
   "outputs": [
    {
     "data": {
      "text/html": [
       "<div>\n",
       "<style scoped>\n",
       "    .dataframe tbody tr th:only-of-type {\n",
       "        vertical-align: middle;\n",
       "    }\n",
       "\n",
       "    .dataframe tbody tr th {\n",
       "        vertical-align: top;\n",
       "    }\n",
       "\n",
       "    .dataframe thead th {\n",
       "        text-align: right;\n",
       "    }\n",
       "</style>\n",
       "<table border=\"1\" class=\"dataframe\">\n",
       "  <thead>\n",
       "    <tr style=\"text-align: right;\">\n",
       "      <th></th>\n",
       "      <th>nodeId</th>\n",
       "      <th>labels</th>\n",
       "    </tr>\n",
       "  </thead>\n",
       "  <tbody>\n",
       "    <tr>\n",
       "      <th>0</th>\n",
       "      <td>343650</td>\n",
       "      <td>IP</td>\n",
       "    </tr>\n",
       "    <tr>\n",
       "      <th>1</th>\n",
       "      <td>266242</td>\n",
       "      <td>IP</td>\n",
       "    </tr>\n",
       "    <tr>\n",
       "      <th>2</th>\n",
       "      <td>279425</td>\n",
       "      <td>IP</td>\n",
       "    </tr>\n",
       "    <tr>\n",
       "      <th>3</th>\n",
       "      <td>307641</td>\n",
       "      <td>IP</td>\n",
       "    </tr>\n",
       "    <tr>\n",
       "      <th>4</th>\n",
       "      <td>180641</td>\n",
       "      <td>IP</td>\n",
       "    </tr>\n",
       "    <tr>\n",
       "      <th>...</th>\n",
       "      <td>...</td>\n",
       "      <td>...</td>\n",
       "    </tr>\n",
       "    <tr>\n",
       "      <th>585850</th>\n",
       "      <td>226704</td>\n",
       "      <td>IP</td>\n",
       "    </tr>\n",
       "    <tr>\n",
       "      <th>585851</th>\n",
       "      <td>104882</td>\n",
       "      <td>IP</td>\n",
       "    </tr>\n",
       "    <tr>\n",
       "      <th>585852</th>\n",
       "      <td>176706</td>\n",
       "      <td>IP</td>\n",
       "    </tr>\n",
       "    <tr>\n",
       "      <th>585853</th>\n",
       "      <td>15143</td>\n",
       "      <td>IP</td>\n",
       "    </tr>\n",
       "    <tr>\n",
       "      <th>585854</th>\n",
       "      <td>276815</td>\n",
       "      <td>IP</td>\n",
       "    </tr>\n",
       "  </tbody>\n",
       "</table>\n",
       "<p>585855 rows × 2 columns</p>\n",
       "</div>"
      ],
      "text/plain": [
       "        nodeId labels\n",
       "0       343650     IP\n",
       "1       266242     IP\n",
       "2       279425     IP\n",
       "3       307641     IP\n",
       "4       180641     IP\n",
       "...        ...    ...\n",
       "585850  226704     IP\n",
       "585851  104882     IP\n",
       "585852  176706     IP\n",
       "585853   15143     IP\n",
       "585854  276815     IP\n",
       "\n",
       "[585855 rows x 2 columns]"
      ]
     },
     "execution_count": 5,
     "metadata": {},
     "output_type": "execute_result"
    }
   ],
   "source": [
    "ips"
   ]
  },
  {
   "cell_type": "code",
   "execution_count": 6,
   "id": "8d3aaab6-220f-4cfe-a951-ac208f1384f5",
   "metadata": {
    "colab": {
     "base_uri": "https://localhost:8080/",
     "height": 424
    },
    "id": "8d3aaab6-220f-4cfe-a951-ac208f1384f5",
    "outputId": "2d1b9dcc-fe7e-4d97-c0a9-b00476299d68"
   },
   "outputs": [
    {
     "data": {
      "text/html": [
       "<div>\n",
       "<style scoped>\n",
       "    .dataframe tbody tr th:only-of-type {\n",
       "        vertical-align: middle;\n",
       "    }\n",
       "\n",
       "    .dataframe tbody tr th {\n",
       "        vertical-align: top;\n",
       "    }\n",
       "\n",
       "    .dataframe thead th {\n",
       "        text-align: right;\n",
       "    }\n",
       "</style>\n",
       "<table border=\"1\" class=\"dataframe\">\n",
       "  <thead>\n",
       "    <tr style=\"text-align: right;\">\n",
       "      <th></th>\n",
       "      <th>nodeId</th>\n",
       "      <th>fraudMoneyTransfer</th>\n",
       "      <th>labels</th>\n",
       "    </tr>\n",
       "  </thead>\n",
       "  <tbody>\n",
       "    <tr>\n",
       "      <th>0</th>\n",
       "      <td>600214</td>\n",
       "      <td>0</td>\n",
       "      <td>User</td>\n",
       "    </tr>\n",
       "    <tr>\n",
       "      <th>1</th>\n",
       "      <td>589898</td>\n",
       "      <td>0</td>\n",
       "      <td>User</td>\n",
       "    </tr>\n",
       "    <tr>\n",
       "      <th>2</th>\n",
       "      <td>585889</td>\n",
       "      <td>0</td>\n",
       "      <td>User</td>\n",
       "    </tr>\n",
       "    <tr>\n",
       "      <th>3</th>\n",
       "      <td>609571</td>\n",
       "      <td>0</td>\n",
       "      <td>User</td>\n",
       "    </tr>\n",
       "    <tr>\n",
       "      <th>4</th>\n",
       "      <td>614918</td>\n",
       "      <td>0</td>\n",
       "      <td>User</td>\n",
       "    </tr>\n",
       "    <tr>\n",
       "      <th>...</th>\n",
       "      <td>...</td>\n",
       "      <td>...</td>\n",
       "      <td>...</td>\n",
       "    </tr>\n",
       "    <tr>\n",
       "      <th>33727</th>\n",
       "      <td>611471</td>\n",
       "      <td>0</td>\n",
       "      <td>User</td>\n",
       "    </tr>\n",
       "    <tr>\n",
       "      <th>33728</th>\n",
       "      <td>613116</td>\n",
       "      <td>0</td>\n",
       "      <td>User</td>\n",
       "    </tr>\n",
       "    <tr>\n",
       "      <th>33729</th>\n",
       "      <td>603472</td>\n",
       "      <td>0</td>\n",
       "      <td>User</td>\n",
       "    </tr>\n",
       "    <tr>\n",
       "      <th>33730</th>\n",
       "      <td>594318</td>\n",
       "      <td>0</td>\n",
       "      <td>User</td>\n",
       "    </tr>\n",
       "    <tr>\n",
       "      <th>33731</th>\n",
       "      <td>588912</td>\n",
       "      <td>0</td>\n",
       "      <td>User</td>\n",
       "    </tr>\n",
       "  </tbody>\n",
       "</table>\n",
       "<p>33732 rows × 3 columns</p>\n",
       "</div>"
      ],
      "text/plain": [
       "       nodeId  fraudMoneyTransfer labels\n",
       "0      600214                   0   User\n",
       "1      589898                   0   User\n",
       "2      585889                   0   User\n",
       "3      609571                   0   User\n",
       "4      614918                   0   User\n",
       "...       ...                 ...    ...\n",
       "33727  611471                   0   User\n",
       "33728  613116                   0   User\n",
       "33729  603472                   0   User\n",
       "33730  594318                   0   User\n",
       "33731  588912                   0   User\n",
       "\n",
       "[33732 rows x 3 columns]"
      ]
     },
     "execution_count": 6,
     "metadata": {},
     "output_type": "execute_result"
    }
   ],
   "source": [
    "users"
   ]
  },
  {
   "cell_type": "code",
   "execution_count": 7,
   "id": "LS5n0ZWY_iB7",
   "metadata": {
    "colab": {
     "base_uri": "https://localhost:8080/",
     "height": 424
    },
    "id": "LS5n0ZWY_iB7",
    "outputId": "54d6f8d7-40b1-4717-ba24-c847b65e7373"
   },
   "outputs": [
    {
     "data": {
      "text/html": [
       "<div>\n",
       "<style scoped>\n",
       "    .dataframe tbody tr th:only-of-type {\n",
       "        vertical-align: middle;\n",
       "    }\n",
       "\n",
       "    .dataframe tbody tr th {\n",
       "        vertical-align: top;\n",
       "    }\n",
       "\n",
       "    .dataframe thead th {\n",
       "        text-align: right;\n",
       "    }\n",
       "</style>\n",
       "<table border=\"1\" class=\"dataframe\">\n",
       "  <thead>\n",
       "    <tr style=\"text-align: right;\">\n",
       "      <th></th>\n",
       "      <th>sourceNodeId</th>\n",
       "      <th>targetNodeId</th>\n",
       "      <th>relationshipType</th>\n",
       "    </tr>\n",
       "  </thead>\n",
       "  <tbody>\n",
       "    <tr>\n",
       "      <th>0</th>\n",
       "      <td>600214</td>\n",
       "      <td>151725</td>\n",
       "      <td>HAS_IP</td>\n",
       "    </tr>\n",
       "    <tr>\n",
       "      <th>1</th>\n",
       "      <td>600214</td>\n",
       "      <td>232299</td>\n",
       "      <td>HAS_IP</td>\n",
       "    </tr>\n",
       "    <tr>\n",
       "      <th>2</th>\n",
       "      <td>600214</td>\n",
       "      <td>127013</td>\n",
       "      <td>HAS_IP</td>\n",
       "    </tr>\n",
       "    <tr>\n",
       "      <th>3</th>\n",
       "      <td>600214</td>\n",
       "      <td>41560</td>\n",
       "      <td>HAS_IP</td>\n",
       "    </tr>\n",
       "    <tr>\n",
       "      <th>4</th>\n",
       "      <td>600214</td>\n",
       "      <td>434917</td>\n",
       "      <td>HAS_IP</td>\n",
       "    </tr>\n",
       "    <tr>\n",
       "      <th>...</th>\n",
       "      <td>...</td>\n",
       "      <td>...</td>\n",
       "      <td>...</td>\n",
       "    </tr>\n",
       "    <tr>\n",
       "      <th>1488944</th>\n",
       "      <td>603472</td>\n",
       "      <td>140230</td>\n",
       "      <td>HAS_IP</td>\n",
       "    </tr>\n",
       "    <tr>\n",
       "      <th>1488945</th>\n",
       "      <td>603472</td>\n",
       "      <td>367612</td>\n",
       "      <td>HAS_IP</td>\n",
       "    </tr>\n",
       "    <tr>\n",
       "      <th>1488946</th>\n",
       "      <td>594318</td>\n",
       "      <td>536671</td>\n",
       "      <td>HAS_IP</td>\n",
       "    </tr>\n",
       "    <tr>\n",
       "      <th>1488947</th>\n",
       "      <td>588912</td>\n",
       "      <td>179487</td>\n",
       "      <td>HAS_IP</td>\n",
       "    </tr>\n",
       "    <tr>\n",
       "      <th>1488948</th>\n",
       "      <td>588912</td>\n",
       "      <td>123457</td>\n",
       "      <td>HAS_IP</td>\n",
       "    </tr>\n",
       "  </tbody>\n",
       "</table>\n",
       "<p>1488949 rows × 3 columns</p>\n",
       "</div>"
      ],
      "text/plain": [
       "         sourceNodeId  targetNodeId relationshipType\n",
       "0              600214        151725           HAS_IP\n",
       "1              600214        232299           HAS_IP\n",
       "2              600214        127013           HAS_IP\n",
       "3              600214         41560           HAS_IP\n",
       "4              600214        434917           HAS_IP\n",
       "...               ...           ...              ...\n",
       "1488944        603472        140230           HAS_IP\n",
       "1488945        603472        367612           HAS_IP\n",
       "1488946        594318        536671           HAS_IP\n",
       "1488947        588912        179487           HAS_IP\n",
       "1488948        588912        123457           HAS_IP\n",
       "\n",
       "[1488949 rows x 3 columns]"
      ]
     },
     "execution_count": 7,
     "metadata": {},
     "output_type": "execute_result"
    }
   ],
   "source": [
    "has_ip"
   ]
  },
  {
   "cell_type": "code",
   "execution_count": 8,
   "id": "gYsXKitH_jUQ",
   "metadata": {
    "colab": {
     "base_uri": "https://localhost:8080/",
     "height": 49
    },
    "id": "gYsXKitH_jUQ",
    "outputId": "c649a217-ae41-4d01-90b4-ec0bf50ef27a"
   },
   "outputs": [],
   "source": [
    "gds = GraphDataScience(NEO4J_URI, auth=NEO4J_AUTH)\n",
    "gds.set_database(NEO4J_AUTH[0])"
   ]
  },
  {
   "cell_type": "code",
   "execution_count": 9,
   "id": "R58INX4zeShd",
   "metadata": {
    "id": "R58INX4zeShd"
   },
   "outputs": [],
   "source": [
    "G = gds.alpha.graph.construct(\"Exercise-02\", [ips, users], [has_ip])"
   ]
  },
  {
   "cell_type": "markdown",
   "id": "70ed17aa-bd7f-4c65-986a-b6d7b6a29f7e",
   "metadata": {},
   "source": [
    "## Generating some Features\n",
    "\n",
    "Let's pretend we need to generate node embeddings representing `User`s and their relationships to other `User`s by `IP`."
   ]
  },
  {
   "cell_type": "markdown",
   "id": "bed303b2-3db3-4f88-b41f-9b22a387381b",
   "metadata": {},
   "source": [
    "---\n",
    "<br><br>"
   ]
  },
  {
   "cell_type": "markdown",
   "id": "6ba3abc5-18e4-4dce-8570-011b883f22f7",
   "metadata": {},
   "source": [
    "### Task 1. Mutate into a Monopartite Similarity Graph\n",
    "Your first step is to create a monopartite representation using **Node Similarity**.\n",
    "\n",
    "Generate a new relationship type called `SIMILAR_BY_IP` with a relationship weight called `score`.\n",
    "\n",
    "> You might want to increase the `concurrency` setting. This should only take about 1 minute or so."
   ]
  },
  {
   "cell_type": "code",
   "execution_count": 10,
   "id": "a42e4cb2-52fb-43f2-8db2-3d9e2fdc36d8",
   "metadata": {},
   "outputs": [
    {
     "data": {
      "application/vnd.jupyter.widget-view+json": {
       "model_id": "35c86ffdc5434661b03f5e0e62f6f68e",
       "version_major": 2,
       "version_minor": 0
      },
      "text/plain": [
       "NodeSimilarity:   0%|          | 0/100 [00:00<?, ?%/s]"
      ]
     },
     "metadata": {},
     "output_type": "display_data"
    },
    {
     "data": {
      "text/plain": [
       "preProcessingMillis                                                       1\n",
       "computeMillis                                                         96882\n",
       "mutateMillis                                                            127\n",
       "postProcessingMillis                                                     -1\n",
       "nodesCompared                                                         33700\n",
       "relationshipsWritten                                                 330132\n",
       "similarityDistribution    {'p1': 0.01694916933774948, 'max': 1.000007621...\n",
       "configuration             {'topK': 10, 'similarityMetric': 'JACCARD', 'b...\n",
       "Name: 0, dtype: object"
      ]
     },
     "execution_count": 10,
     "metadata": {},
     "output_type": "execute_result"
    }
   ],
   "source": [
    "# Mutate our graph here...\n",
    "gds.nodeSimilarity.mutate(G, mutateRelationshipType='SIMILAR_BY_IP', mutateProperty=\"score\")"
   ]
  },
  {
   "cell_type": "code",
   "execution_count": 11,
   "id": "d4465c86-c0c6-4d74-bda5-31b54e3e6026",
   "metadata": {},
   "outputs": [
    {
     "name": "stdout",
     "output_type": "stream",
     "text": [
      "🥳 Ex 02/Task 1 passed!\n"
     ]
    }
   ],
   "source": [
    "# Don't change this cell.\n",
    "c.check_result(\"Ex 02\", \"Task 1\", G=G)"
   ]
  },
  {
   "cell_type": "markdown",
   "id": "87a427e8-231b-4ce6-9268-5e11e8cba777",
   "metadata": {},
   "source": [
    "---\n",
    "<br><br>"
   ]
  },
  {
   "cell_type": "markdown",
   "id": "32fe6b1a-9dfb-464f-8285-d2916fff51a4",
   "metadata": {},
   "source": [
    "### Task 2. Generate the Embeddings\n",
    "\n",
    "Now we generate the node embedding vectors! We'll use **FastRP**. \n",
    "\n",
    "Mutate the graph and store the embeddings in a property called `fastRP` and make sure to use an embedding of `256`."
   ]
  },
  {
   "cell_type": "code",
   "execution_count": 12,
   "id": "60a13383-2983-497c-b76f-afabbf158ca6",
   "metadata": {},
   "outputs": [
    {
     "data": {
      "application/vnd.jupyter.widget-view+json": {
       "model_id": "1a376c0dabe14d7ea615aaf04e7ef4b6",
       "version_major": 2,
       "version_minor": 0
      },
      "text/plain": [
       "FastRP:   0%|          | 0/100 [00:00<?, ?%/s]"
      ]
     },
     "metadata": {},
     "output_type": "display_data"
    },
    {
     "data": {
      "text/plain": [
       "nodePropertiesWritten                                               619587\n",
       "mutateMillis                                                             0\n",
       "nodeCount                                                           619587\n",
       "preProcessingMillis                                                      0\n",
       "computeMillis                                                         2197\n",
       "configuration            {'jobId': '8ea19d5d-0ec3-46f0-84aa-56d08a6d4fa...\n",
       "Name: 0, dtype: object"
      ]
     },
     "execution_count": 12,
     "metadata": {},
     "output_type": "execute_result"
    }
   ],
   "source": [
    "# Mutate our graph here...\n",
    "gds.fastRP.mutate(G, \n",
    "                  mutateProperty=\"fastRP\", \n",
    "                  embeddingDimension=256,\n",
    "                  iterationWeights=[0.0, 1.0, 1.0])"
   ]
  },
  {
   "cell_type": "code",
   "execution_count": 13,
   "id": "b62b5c7c-a3f2-451a-bf5a-1bc72710f11f",
   "metadata": {},
   "outputs": [
    {
     "name": "stdout",
     "output_type": "stream",
     "text": [
      "🥳 Ex 02/Task 2 passed!\n"
     ]
    }
   ],
   "source": [
    "# Don't change this cell.\n",
    "c.check_result(\"Ex 02\", \"Task 2\", G=G)"
   ]
  },
  {
   "cell_type": "markdown",
   "id": "32246feb-4056-4bfb-9feb-814d1ebbd027",
   "metadata": {},
   "source": [
    "---\n",
    "<br><br>"
   ]
  },
  {
   "cell_type": "markdown",
   "id": "1b7bcea1-9e6b-4c71-9c84-ff6b32dd3774",
   "metadata": {},
   "source": [
    "### Task 3. Dump our Vectors using the Power of Apache Arrow 🏹\n",
    "\n",
    "Now's where the magic happens! Pull back **all** the node embeddings into a single DataFrame. If you tried this with the native Python driver, you'd be twiddling your thumbs for quite some time.\n",
    "\n",
    "> Bonus points if you know how to get the resulting DataFrame to call the embedding vector \"fastRP\".\n",
    "\n",
    "Call this new DataFrame `df`."
   ]
  },
  {
   "cell_type": "code",
   "execution_count": 14,
   "id": "89c56e9f-716c-453e-a9b6-fbf3365feb55",
   "metadata": {},
   "outputs": [
    {
     "name": "stdout",
     "output_type": "stream",
     "text": [
      "CPU times: user 1.14 s, sys: 763 ms, total: 1.91 s\n",
      "Wall time: 24.2 s\n"
     ]
    },
    {
     "data": {
      "text/html": [
       "<div>\n",
       "<style scoped>\n",
       "    .dataframe tbody tr th:only-of-type {\n",
       "        vertical-align: middle;\n",
       "    }\n",
       "\n",
       "    .dataframe tbody tr th {\n",
       "        vertical-align: top;\n",
       "    }\n",
       "\n",
       "    .dataframe thead th {\n",
       "        text-align: right;\n",
       "    }\n",
       "</style>\n",
       "<table border=\"1\" class=\"dataframe\">\n",
       "  <thead>\n",
       "    <tr style=\"text-align: right;\">\n",
       "      <th></th>\n",
       "      <th>nodeId</th>\n",
       "      <th>propertyValue</th>\n",
       "    </tr>\n",
       "  </thead>\n",
       "  <tbody>\n",
       "    <tr>\n",
       "      <th>0</th>\n",
       "      <td>320000</td>\n",
       "      <td>[0.0, 0.0, 0.0, 0.0, 0.0, 0.0, 0.0, 0.0, 0.0, ...</td>\n",
       "    </tr>\n",
       "    <tr>\n",
       "      <th>1</th>\n",
       "      <td>320001</td>\n",
       "      <td>[0.0, 0.0, 0.0, 0.0, 0.0, 0.0, 0.0, 0.0, 0.0, ...</td>\n",
       "    </tr>\n",
       "    <tr>\n",
       "      <th>2</th>\n",
       "      <td>320002</td>\n",
       "      <td>[0.0, 0.0, 0.0, 0.0, 0.0, 0.0, 0.0, 0.0, 0.0, ...</td>\n",
       "    </tr>\n",
       "    <tr>\n",
       "      <th>3</th>\n",
       "      <td>320003</td>\n",
       "      <td>[0.0, 0.0, 0.0, 0.0, 0.0, 0.0, 0.0, 0.0, 0.0, ...</td>\n",
       "    </tr>\n",
       "    <tr>\n",
       "      <th>4</th>\n",
       "      <td>320004</td>\n",
       "      <td>[0.0, 0.0, 0.0, 0.0, 0.0, 0.0, 0.0, 0.0, 0.0, ...</td>\n",
       "    </tr>\n",
       "    <tr>\n",
       "      <th>...</th>\n",
       "      <td>...</td>\n",
       "      <td>...</td>\n",
       "    </tr>\n",
       "    <tr>\n",
       "      <th>619582</th>\n",
       "      <td>319995</td>\n",
       "      <td>[0.0, 0.0, 0.0, 0.0, 0.0, 0.0, 0.0, 0.0, 0.0, ...</td>\n",
       "    </tr>\n",
       "    <tr>\n",
       "      <th>619583</th>\n",
       "      <td>319996</td>\n",
       "      <td>[0.0, 0.0, 0.0, 0.0, 0.0, 0.0, 0.0, 0.0, 0.0, ...</td>\n",
       "    </tr>\n",
       "    <tr>\n",
       "      <th>619584</th>\n",
       "      <td>319997</td>\n",
       "      <td>[0.0, 0.0, 0.0, 0.0, 0.0, 0.0, 0.0, 0.0, 0.0, ...</td>\n",
       "    </tr>\n",
       "    <tr>\n",
       "      <th>619585</th>\n",
       "      <td>319998</td>\n",
       "      <td>[0.0, 0.0, 0.0, 0.0, 0.0, 0.0, 0.0, 0.0, 0.0, ...</td>\n",
       "    </tr>\n",
       "    <tr>\n",
       "      <th>619586</th>\n",
       "      <td>319999</td>\n",
       "      <td>[0.0, 0.0, 0.0, 0.0, 0.0, 0.0, 0.0, 0.0, 0.0, ...</td>\n",
       "    </tr>\n",
       "  </tbody>\n",
       "</table>\n",
       "<p>619587 rows × 2 columns</p>\n",
       "</div>"
      ],
      "text/plain": [
       "        nodeId                                      propertyValue\n",
       "0       320000  [0.0, 0.0, 0.0, 0.0, 0.0, 0.0, 0.0, 0.0, 0.0, ...\n",
       "1       320001  [0.0, 0.0, 0.0, 0.0, 0.0, 0.0, 0.0, 0.0, 0.0, ...\n",
       "2       320002  [0.0, 0.0, 0.0, 0.0, 0.0, 0.0, 0.0, 0.0, 0.0, ...\n",
       "3       320003  [0.0, 0.0, 0.0, 0.0, 0.0, 0.0, 0.0, 0.0, 0.0, ...\n",
       "4       320004  [0.0, 0.0, 0.0, 0.0, 0.0, 0.0, 0.0, 0.0, 0.0, ...\n",
       "...        ...                                                ...\n",
       "619582  319995  [0.0, 0.0, 0.0, 0.0, 0.0, 0.0, 0.0, 0.0, 0.0, ...\n",
       "619583  319996  [0.0, 0.0, 0.0, 0.0, 0.0, 0.0, 0.0, 0.0, 0.0, ...\n",
       "619584  319997  [0.0, 0.0, 0.0, 0.0, 0.0, 0.0, 0.0, 0.0, 0.0, ...\n",
       "619585  319998  [0.0, 0.0, 0.0, 0.0, 0.0, 0.0, 0.0, 0.0, 0.0, ...\n",
       "619586  319999  [0.0, 0.0, 0.0, 0.0, 0.0, 0.0, 0.0, 0.0, 0.0, ...\n",
       "\n",
       "[619587 rows x 2 columns]"
      ]
     },
     "execution_count": 14,
     "metadata": {},
     "output_type": "execute_result"
    }
   ],
   "source": [
    "%time df = gds.graph.streamNodeProperty(G, \"fastRP\")\n",
    "df"
   ]
  },
  {
   "cell_type": "code",
   "execution_count": 15,
   "id": "baccdeb7-1d02-45ec-8c18-cd84c45a7766",
   "metadata": {},
   "outputs": [
    {
     "name": "stdout",
     "output_type": "stream",
     "text": [
      "🥳 Ex 02/Task 3 passed!\n"
     ]
    }
   ],
   "source": [
    "# Don't change this cell.\n",
    "c.check_result(\"Ex 02\", \"Task 3\", df=df)"
   ]
  },
  {
   "cell_type": "markdown",
   "id": "7d6c9e7f-5730-4252-b547-31021f2fe8b6",
   "metadata": {},
   "source": [
    "### Aside: Ok...is Apache Arrow 🏹 even doing anything? 🤔\n",
    "\n",
    "Proof is in the pudding 🍮, so we'll now show how long it takes to pull back a _fraction_ of the same data using the traditional Python driver calling the `gds.graph.streamNodeProperty` stored procedure."
   ]
  },
  {
   "cell_type": "code",
   "execution_count": 16,
   "id": "f209284c-2855-4c50-b3cd-0196c5a0b9f6",
   "metadata": {},
   "outputs": [
    {
     "name": "stdout",
     "output_type": "stream",
     "text": [
      "It took 21 seconds to return your (partial) DataFrame. 🥱\n",
      "It would probably take 267 seconds to return the total thing! 🤯\n"
     ]
    },
    {
     "data": {
      "text/html": [
       "<div>\n",
       "<style scoped>\n",
       "    .dataframe tbody tr th:only-of-type {\n",
       "        vertical-align: middle;\n",
       "    }\n",
       "\n",
       "    .dataframe tbody tr th {\n",
       "        vertical-align: top;\n",
       "    }\n",
       "\n",
       "    .dataframe thead th {\n",
       "        text-align: right;\n",
       "    }\n",
       "</style>\n",
       "<table border=\"1\" class=\"dataframe\">\n",
       "  <thead>\n",
       "    <tr style=\"text-align: right;\">\n",
       "      <th></th>\n",
       "      <th>nodeId</th>\n",
       "      <th>propertyValue</th>\n",
       "    </tr>\n",
       "  </thead>\n",
       "  <tbody>\n",
       "    <tr>\n",
       "      <th>0</th>\n",
       "      <td>0</td>\n",
       "      <td>[0.0, 0.0, 0.0, 0.0, 0.0, 0.0, 0.0, 0.0, 0.0, ...</td>\n",
       "    </tr>\n",
       "    <tr>\n",
       "      <th>1</th>\n",
       "      <td>1</td>\n",
       "      <td>[0.0, 0.0, 0.0, 0.0, 0.0, 0.0, 0.0, 0.0, 0.0, ...</td>\n",
       "    </tr>\n",
       "    <tr>\n",
       "      <th>2</th>\n",
       "      <td>2</td>\n",
       "      <td>[0.0, 0.0, 0.0, 0.0, 0.0, 0.0, 0.0, 0.0, 0.0, ...</td>\n",
       "    </tr>\n",
       "    <tr>\n",
       "      <th>3</th>\n",
       "      <td>3</td>\n",
       "      <td>[0.0, 0.0, 0.0, 0.0, 0.0, 0.0, 0.0, 0.0, 0.0, ...</td>\n",
       "    </tr>\n",
       "    <tr>\n",
       "      <th>4</th>\n",
       "      <td>4</td>\n",
       "      <td>[0.0, 0.0, 0.0, 0.0, 0.0, 0.0, 0.0, 0.0, 0.0, ...</td>\n",
       "    </tr>\n",
       "    <tr>\n",
       "      <th>...</th>\n",
       "      <td>...</td>\n",
       "      <td>...</td>\n",
       "    </tr>\n",
       "    <tr>\n",
       "      <th>49995</th>\n",
       "      <td>49995</td>\n",
       "      <td>[0.0, 0.0, 0.0, 0.0, 0.0, 0.0, 0.0, 0.0, 0.0, ...</td>\n",
       "    </tr>\n",
       "    <tr>\n",
       "      <th>49996</th>\n",
       "      <td>49996</td>\n",
       "      <td>[0.0, 0.0, 0.0, 0.0, 0.0, 0.0, 0.0, 0.0, 0.0, ...</td>\n",
       "    </tr>\n",
       "    <tr>\n",
       "      <th>49997</th>\n",
       "      <td>49997</td>\n",
       "      <td>[0.0, 0.0, 0.0, 0.0, 0.0, 0.0, 0.0, 0.0, 0.0, ...</td>\n",
       "    </tr>\n",
       "    <tr>\n",
       "      <th>49998</th>\n",
       "      <td>49998</td>\n",
       "      <td>[0.0, 0.0, 0.0, 0.0, 0.0, 0.0, 0.0, 0.0, 0.0, ...</td>\n",
       "    </tr>\n",
       "    <tr>\n",
       "      <th>49999</th>\n",
       "      <td>49999</td>\n",
       "      <td>[0.0, 0.0, 0.0, 0.0, 0.0, 0.0, 0.0, 0.0, 0.0, ...</td>\n",
       "    </tr>\n",
       "  </tbody>\n",
       "</table>\n",
       "<p>50000 rows × 2 columns</p>\n",
       "</div>"
      ],
      "text/plain": [
       "       nodeId                                      propertyValue\n",
       "0           0  [0.0, 0.0, 0.0, 0.0, 0.0, 0.0, 0.0, 0.0, 0.0, ...\n",
       "1           1  [0.0, 0.0, 0.0, 0.0, 0.0, 0.0, 0.0, 0.0, 0.0, ...\n",
       "2           2  [0.0, 0.0, 0.0, 0.0, 0.0, 0.0, 0.0, 0.0, 0.0, ...\n",
       "3           3  [0.0, 0.0, 0.0, 0.0, 0.0, 0.0, 0.0, 0.0, 0.0, ...\n",
       "4           4  [0.0, 0.0, 0.0, 0.0, 0.0, 0.0, 0.0, 0.0, 0.0, ...\n",
       "...       ...                                                ...\n",
       "49995   49995  [0.0, 0.0, 0.0, 0.0, 0.0, 0.0, 0.0, 0.0, 0.0, ...\n",
       "49996   49996  [0.0, 0.0, 0.0, 0.0, 0.0, 0.0, 0.0, 0.0, 0.0, ...\n",
       "49997   49997  [0.0, 0.0, 0.0, 0.0, 0.0, 0.0, 0.0, 0.0, 0.0, ...\n",
       "49998   49998  [0.0, 0.0, 0.0, 0.0, 0.0, 0.0, 0.0, 0.0, 0.0, ...\n",
       "49999   49999  [0.0, 0.0, 0.0, 0.0, 0.0, 0.0, 0.0, 0.0, 0.0, ...\n",
       "\n",
       "[50000 rows x 2 columns]"
      ]
     },
     "metadata": {},
     "output_type": "display_data"
    }
   ],
   "source": [
    "from neo4j import GraphDatabase\n",
    "import pandas, time\n",
    "\n",
    "df2 = None\n",
    "t0, t1 = 0.0, 0.0\n",
    "sz = 50_000\n",
    "with GraphDatabase.driver(NEO4J_URI, auth=NEO4J_AUTH) as d:\n",
    "    with d.session() as s:\n",
    "        t0 = time.time()\n",
    "        result = s.run(\"\"\"\n",
    "          CALL gds.graph.nodeProperty.stream('Exercise-02', 'fastRP')\n",
    "          YIELD nodeId, propertyValue\n",
    "          RETURN * LIMIT $limit;\n",
    "        \"\"\", limit=sz)\n",
    "        df2 = result.to_df()\n",
    "        t1 = time.time()\n",
    "\n",
    "print(f\"It took {int(t1 - t0):,} seconds to return your (partial) DataFrame. 🥱\")\n",
    "print(f\"It would probably take {int(len(df) / (sz / (t1 - t0))):,} seconds to return the total thing! 🤯\")\n",
    "display(df2)"
   ]
  },
  {
   "cell_type": "markdown",
   "id": "dcfada6d-5bcb-4753-a814-fada264f851c",
   "metadata": {},
   "source": [
    "---\n",
    "<br><br>\n",
    "\n",
    "# Cleanup!🧹\n",
    "\n",
    "Now you can `drop()` your graph."
   ]
  },
  {
   "cell_type": "code",
   "execution_count": 17,
   "id": "3cf67724-4936-4555-a5e8-a525a2eb6b09",
   "metadata": {},
   "outputs": [
    {
     "data": {
      "text/plain": [
       "graphName                                                  Exercise-02\n",
       "database                                                       user255\n",
       "memoryUsage                                                           \n",
       "sizeInBytes                                                         -1\n",
       "nodeCount                                                       619587\n",
       "relationshipCount                                              1819081\n",
       "configuration                                                       {}\n",
       "density                                                       0.000005\n",
       "creationTime                       2022-10-26T12:48:14.528724000+00:00\n",
       "modificationTime                   2022-10-26T12:49:55.225083000+00:00\n",
       "schema               {'graphProperties': {}, 'relationships': {'HAS...\n",
       "Name: 0, dtype: object"
      ]
     },
     "execution_count": 17,
     "metadata": {},
     "output_type": "execute_result"
    }
   ],
   "source": [
    "G.drop()"
   ]
  }
 ],
 "metadata": {
  "colab": {
   "collapsed_sections": [],
   "provenance": []
  },
  "kernelspec": {
   "display_name": "Python 3 (ipykernel)",
   "language": "python",
   "name": "python3"
  },
  "language_info": {
   "codemirror_mode": {
    "name": "ipython",
    "version": 3
   },
   "file_extension": ".py",
   "mimetype": "text/x-python",
   "name": "python",
   "nbconvert_exporter": "python",
   "pygments_lexer": "ipython3",
   "version": "3.10.6"
  }
 },
 "nbformat": 4,
 "nbformat_minor": 5
}
