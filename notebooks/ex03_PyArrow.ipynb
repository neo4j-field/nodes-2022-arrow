{
 "cells": [
  {
   "cell_type": "markdown",
   "id": "dcd2050e-a868-49fe-8d7d-d5198df15d4a",
   "metadata": {
    "id": "ea620ed9-1c11-4c7b-aa07-4df3748be8cc"
   },
   "source": [
    "# Exercise 03 - Tapping into PyArrow 🏹\n",
    "\n",
    "By now you should have noticed something. Did you notice it?\n",
    "\n",
    "_You haven't had to touch anything Apache Arrow specific!_\n",
    "\n",
    "This is the ideal way we embrace Apache Arrow in our platform. The end-user shouldn't know or care of its existance, just like with Neo4j Bolt/PackStream protocols. It should fade into the background and get out of their way.\n",
    "\n",
    "## So why Dig Deeper? 🤔\n",
    "\n",
    "There are two reasons (other than education) for _not_ using the GDS Python Client:\n",
    "\n",
    "1. You want to scale out you data load across multiple disparate workers. (Think Apache Spark or Apache Beam.)\n",
    "\n",
    "2. You want to construct a _Database_, not a GDS Projection/Graph. (We'll cover this in _Exercise 04_.)\n",
    "\n",
    "\n",
    "### The Import Protocol\n",
    "\n",
    "Whether your building a graph projection or a database, the protocol we follow is the same.\n",
    "\n",
    "![import-protocol.png](./img/import-protocol.png)\n",
    "\n",
    "Each of these steps is achieved by a combination of Apache Arrow Flight's RPC calls and streaming API.\n",
    "\n",
    "\n",
    "### The Who and the What Now? 😖\n",
    "\n",
    "You shouldn't have to worry about those details! The protocol, however, is _unique to Neo4j_ and _**is** something you should learn_!\n",
    "\n",
    "So let's dive in!"
   ]
  },
  {
   "cell_type": "markdown",
   "id": "f6bb93ec-ed14-494b-9b67-6e848a56749f",
   "metadata": {},
   "source": [
    "---\n",
    "<br><br>"
   ]
  },
  {
   "cell_type": "markdown",
   "id": "fad51231-4498-4802-b8f7-3c97460fc3d8",
   "metadata": {},
   "source": [
    "## neo4j_arrow\n",
    "\n",
    "We're now going to switch to using a Field project authored by `dave.voutila@` that exposes the _Apache PyArrow SDK_ in a way to simplify leveraging the GDS Apache Arrow Flight Service we've been using behind the scenes this entire time.\n",
    "\n",
    "Currently, the project is in the `neo4j-field` Github repo and publically accessible. This means you can easily install it via `pip install` and pointing at the releast tarball/zipfile you want to use.\n",
    "\n",
    "> Q: _\"Is this supported?\"_\n",
    "\n",
    "> A: **Nope!** This is a field project and provided as-is. It's provided as a reference implementation.\n",
    "\n",
    "> Q: _\"Will this be in PyPI?\"_\n",
    "\n",
    "> A: **Nope!** Dave has zero interest in that."
   ]
  },
  {
   "cell_type": "code",
   "execution_count": null,
   "id": "37b5e7e7-0106-45cd-bb1d-d8520841b25c",
   "metadata": {},
   "outputs": [],
   "source": [
    "%%capture\n",
    "%pip install https://github.com/neo4j-field/neo4j_arrow/releases/download/0.2.0/neo4j_arrow-0.2.0.tar.gz\n",
    "%pip install https://github.com/neo4j-field/checker/releases/download/0.4.1/checker-0.4.1.tar.gz"
   ]
  },
  {
   "cell_type": "code",
   "execution_count": null,
   "id": "ebfdad9c-d796-4634-8e44-2e6d08e80384",
   "metadata": {},
   "outputs": [],
   "source": [
    "import pandas as pd\n",
    "\n",
    "import pyarrow as pa\n",
    "import pyarrow.parquet\n",
    "\n",
    "import answers.checker as c\n",
    "\n",
    "from neo4j_arrow import Neo4jArrowClient"
   ]
  },
  {
   "cell_type": "code",
   "execution_count": null,
   "id": "c5ddad98-eb7f-46d0-a7f7-6ddaeb9f76f1",
   "metadata": {},
   "outputs": [],
   "source": [
    "# Update this if you're running locally with the provided Docker instances.\n",
    "USE_TLS = True\n",
    "NEO4J_HOST = \"nodes.neo4j.academy\"\n",
    "NEO4J_URI = f\"neo4j{'+s' * int(USE_TLS)}://{NEO4J_HOST}:7687\"\n",
    "NEO4J_AUTH = (\"user255\", \"xxxx\")"
   ]
  },
  {
   "cell_type": "code",
   "execution_count": null,
   "id": "201dbf82-bd48-4aa2-8a6f-d63e4f1a1662",
   "metadata": {},
   "outputs": [],
   "source": [
    "client = Neo4jArrowClient(NEO4J_HOST,          # host or ip\n",
    "                          \"Exercise-03\",       # graph projection name\n",
    "                          port=8491,           # Arrow service port\n",
    "                          tls=USE_TLS,\n",
    "                          database=NEO4J_AUTH[0], # you might need to change this!\n",
    "                          user=NEO4J_AUTH[0],\n",
    "                          password=NEO4J_AUTH[1],\n",
    "                          concurrency=4        # server-side concurrency (num threads)\n",
    ")"
   ]
  },
  {
   "cell_type": "markdown",
   "id": "2e9e6c84-4ccd-45d9-91bc-8738ad2a27e2",
   "metadata": {},
   "source": [
    "### Reading Parquet with PyArrow\n",
    "\n",
    "PyArrow provides a lot of helpful utilities for working with a variety of columnar data formats, like Apache Parquet. \n",
    "\n",
    "**IF the data is local**, we don't need to use Pandas! 🐼 Check out https://arrow.apache.org/docs/python/generated/pyarrow.parquet.read_table.html.\n",
    "\n",
    "Otherwise, we can easily us Pandas to fetch the remote Parquet file and flip it into a PyArrow Table."
   ]
  },
  {
   "cell_type": "code",
   "execution_count": null,
   "id": "23a7d82d-0d4c-4160-8a5a-a39ea34f2c8b",
   "metadata": {},
   "outputs": [],
   "source": [
    "df = pd.read_parquet(\"https://storage.googleapis.com/neo4j-se-public/training/user.parquet\")\n",
    "users = pa.Table.from_pandas(df)"
   ]
  },
  {
   "cell_type": "markdown",
   "id": "ab0ddf73-1451-4231-a1c3-deca8e3130de",
   "metadata": {},
   "source": [
    "PyArrow Tables are like Pandas DataFrames, but a bit lower level. They're able to be converted to/from DataFrames, but unless you're going to manipulate the data it's not important to create a DataFrame representation."
   ]
  },
  {
   "cell_type": "markdown",
   "id": "ed99056d-4c5c-4fd8-9b10-cc4c4f6b1e06",
   "metadata": {},
   "source": [
    "---\n",
    "<br><br>"
   ]
  },
  {
   "cell_type": "markdown",
   "id": "7f87496c-c4ae-4385-8009-a0e56ade1f40",
   "metadata": {},
   "source": [
    "### Task 1. Read our Relationships into a Table\n",
    "Now that you've seen the basics of reading a Parquet file into a PyArrow `Table`, repeat the process to load the `referred.parquet` file we used previously in _Exercise 01_.\n",
    "\n",
    "> Call it `referred`."
   ]
  },
  {
   "cell_type": "code",
   "execution_count": null,
   "id": "dc3ad2c5-09f2-44ef-9663-a18be506c7f1",
   "metadata": {},
   "outputs": [],
   "source": [
    "df = pd.read_parquet(\"https://storage.googleapis.com/neo4j-se-public/training/referred.parquet\")\n",
    "referred = pa.Table.from_pandas(df)\n",
    "referred"
   ]
  },
  {
   "cell_type": "code",
   "execution_count": null,
   "id": "3e5f6dab-1831-4da7-b89e-96f873c1f54d",
   "metadata": {},
   "outputs": [],
   "source": [
    "# Don't change this cell.\n",
    "c.check_result(\"Ex 03\", \"Task 1\", referred=referred)"
   ]
  },
  {
   "cell_type": "markdown",
   "id": "97ede422-a76e-449c-842b-cffc369b8fb2",
   "metadata": {},
   "source": [
    "---\n",
    "<br><br>"
   ]
  },
  {
   "cell_type": "markdown",
   "id": "83c320fc-5638-45a2-a7c9-1cd54cf461b6",
   "metadata": {},
   "source": [
    "## Starting the Projection\n",
    "\n",
    "We first need to signal to the Neo4j GDS server that we're going to project a new graph. The `Neo4jArrowClient` encapsulates some of our configuration already when we constructed it (e.g. the projection name), so starting the process is a simple method call.\n",
    "\n",
    "If all is well, the server will respond with a message containing the projection name. (In this case, `Exercise-03`.)"
   ]
  },
  {
   "cell_type": "code",
   "execution_count": null,
   "id": "d8a18884-96ef-47af-a997-e46364a5a52b",
   "metadata": {},
   "outputs": [],
   "source": [
    "# First step in the Import Protocol\n",
    "\n",
    "client.start()"
   ]
  },
  {
   "cell_type": "markdown",
   "id": "5409e931-d26c-4441-aea3-b1ad3baf6ce1",
   "metadata": {},
   "source": [
    "You should receive a response like:\n",
    "\n",
    "```python\n",
    "{'name': 'Exercise-03'}\n",
    "```\n",
    "\n",
    "We've started the process, but now we need to send data!\n",
    "\n",
    "The protocol follows our common best practice for building a graph at scale:\n",
    "\n",
    "1. Load nodes\n",
    "2. Load relationships\n",
    "\n",
    "The `Neo4jArrowClient` makes it easy to send one or many PyArrow `Table` instances in parallel: we simply pass the `Table` to `write_nodes()`.\n",
    "\n",
    "On success, it returns a `tuple` representing: `(number of items, size of data sent in bytes)`"
   ]
  },
  {
   "cell_type": "code",
   "execution_count": null,
   "id": "29b87aaf-f05a-4eaf-a8c5-fa69e2a58851",
   "metadata": {},
   "outputs": [],
   "source": [
    "client.write_nodes(users)"
   ]
  },
  {
   "cell_type": "markdown",
   "id": "6f0415f2-683d-476c-bcd9-d0a4fd4663d5",
   "metadata": {},
   "source": [
    "---\n",
    "<br><br>"
   ]
  },
  {
   "cell_type": "markdown",
   "id": "896c7be1-37ff-4629-82ef-e0767e10c8db",
   "metadata": {},
   "source": [
    "### 🛎️ Nodes are Done!\n",
    "\n",
    "Recall that the purpose of using something lower-level than the GDS Python Client is we may have multiple, disparate workers sending nodes to the server.\n",
    "\n",
    "How does the server find out we're done sending it nodes?\n",
    "\n",
    "Simple: we tell it we're done!\n",
    "\n",
    "> In practice, if using a platform like Apache Beam or Apache Spark, you'll want the orchestration node to send this signal so it's sent _once and only once_.\n",
    "\n",
    "Upon success, we receive a similar message to `start()` but now we get information on the number of nodes received by the server."
   ]
  },
  {
   "cell_type": "code",
   "execution_count": null,
   "id": "2124a79f-892c-4b52-b82b-6b430d9a82ab",
   "metadata": {},
   "outputs": [],
   "source": [
    "client.nodes_done()"
   ]
  },
  {
   "cell_type": "markdown",
   "id": "4c42b3c2-73f8-42b6-a84e-1f170554e886",
   "metadata": {},
   "source": [
    "---\n",
    "<br><br>"
   ]
  },
  {
   "cell_type": "markdown",
   "id": "005f34ba-bdbf-42bf-ae62-c37b1f97db1a",
   "metadata": {},
   "source": [
    "### Task 2. Send our Edges to GDS\n",
    "\n",
    "Now it's your turn! Send the edges to the server. Use either the `neo4j_arrow` code or just the code completion in your notebook to find the method to call.\n",
    "\n",
    "> Hint: it's very similar to how we write nodes.\n",
    "\n",
    "Store the response in an object called `result`."
   ]
  },
  {
   "cell_type": "code",
   "execution_count": null,
   "id": "701087a8-082e-43ba-8c27-0012a32cf7df",
   "metadata": {},
   "outputs": [],
   "source": [
    "result = client.write_edges(referred)\n",
    "result"
   ]
  },
  {
   "cell_type": "code",
   "execution_count": null,
   "id": "b86c85ff-805a-4c11-833e-2dff6a045b9f",
   "metadata": {},
   "outputs": [],
   "source": [
    "# Don't change this cell.\n",
    "c.check_result(\"Ex 03\", \"Task 2\", result=result)"
   ]
  },
  {
   "cell_type": "markdown",
   "id": "134cd41c-9046-4544-8baa-067cef65015b",
   "metadata": {},
   "source": [
    "---\n",
    "<br><br>"
   ]
  },
  {
   "cell_type": "markdown",
   "id": "34afe9d4-e2c1-496f-b899-0b33cc054b77",
   "metadata": {},
   "source": [
    "### Task 3. Signal we're Done Sending Edges\n",
    "\n",
    "To complete the import protocol, just like we did with nodes, we need to tell the server we're done sending edges.\n",
    "\n",
    "On success, we'll receive back a similar message as when we signaled nodes were done, but instead of a node count we get the observed relationship count.\n",
    "\n",
    "Your turn! Tell the server we're done and store the reponse in `result` again."
   ]
  },
  {
   "cell_type": "code",
   "execution_count": null,
   "id": "892366e7-9a39-401d-a2ed-69722b174dce",
   "metadata": {},
   "outputs": [],
   "source": [
    "result = client.edges_done()\n",
    "result"
   ]
  },
  {
   "cell_type": "code",
   "execution_count": null,
   "id": "70549af4-029a-40ea-b5ee-6c2bc50bdf20",
   "metadata": {},
   "outputs": [],
   "source": [
    "# Don't change this cell.\n",
    "c.check_result(\"Ex 03\", \"Task 3\", result=result)"
   ]
  },
  {
   "cell_type": "markdown",
   "id": "6f7b8575-70f1-4a9b-bcc5-38466e8307d3",
   "metadata": {},
   "source": [
    "---\n",
    "<br><br>"
   ]
  },
  {
   "cell_type": "markdown",
   "id": "6b013518-57ec-45cd-83b0-bb68649c45f2",
   "metadata": {},
   "source": [
    "### Validate our Work\n",
    "\n",
    "Since the projection is now live in GDS, you can access it with the GDS Python Client like you would any other projection.\n",
    "\n",
    "In this case, we expect to see a projection like:\n",
    "\n",
    "```python\n",
    "{\n",
    "    'nodes': (['User'], 33732),\n",
    "    'edges': (['REFERRED'], 1870)\n",
    "}\n",
    "```"
   ]
  },
  {
   "cell_type": "code",
   "execution_count": null,
   "id": "ca2d78fb-87e3-4b76-ae51-ae42d69fe27f",
   "metadata": {},
   "outputs": [],
   "source": [
    "from graphdatascience import GraphDataScience\n",
    "\n",
    "gds = GraphDataScience(NEO4J_URI, auth=NEO4J_AUTH)\n",
    "gds.set_database(NEO4J_AUTH[0])\n",
    "\n",
    "G = gds.graph.get(\"Exercise-03\")\n",
    "\n",
    "{ \"nodes\": (G.node_labels(), G.node_count()), \"edges\": (G.relationship_types(), G.relationship_count()) }"
   ]
  },
  {
   "cell_type": "markdown",
   "id": "d5dc02c7-a1f8-4c0b-8d72-81a87abaa3a9",
   "metadata": {},
   "source": [
    "---\n",
    "<br><br>"
   ]
  },
  {
   "cell_type": "code",
   "execution_count": null,
   "id": "9e03ea38-d7d2-447b-b838-cdaf1e078a96",
   "metadata": {},
   "outputs": [],
   "source": [
    "G.drop()"
   ]
  }
 ],
 "metadata": {
  "kernelspec": {
   "display_name": "Python 3 (ipykernel)",
   "language": "python",
   "name": "python3"
  },
  "language_info": {
   "codemirror_mode": {
    "name": "ipython",
    "version": 3
   },
   "file_extension": ".py",
   "mimetype": "text/x-python",
   "name": "python",
   "nbconvert_exporter": "python",
   "pygments_lexer": "ipython3",
   "version": "3.10.6"
  }
 },
 "nbformat": 4,
 "nbformat_minor": 5
}
