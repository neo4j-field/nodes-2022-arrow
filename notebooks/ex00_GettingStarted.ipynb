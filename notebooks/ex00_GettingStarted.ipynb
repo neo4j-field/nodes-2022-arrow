{
 "cells": [
  {
   "cell_type": "markdown",
   "id": "d5c73e6e-bc0d-464c-b307-ed0cb99c7075",
   "metadata": {
    "tags": []
   },
   "source": [
    "# Exercise 00 - Getting Started"
   ]
  },
  {
   "cell_type": "code",
   "execution_count": 1,
   "id": "ace47af7-d95d-4e6f-afb0-a5c83d66be70",
   "metadata": {},
   "outputs": [],
   "source": [
    "%%capture\n",
    "%pip install -U graphdatascience pandas ipywidgets"
   ]
  },
  {
   "cell_type": "code",
   "execution_count": 2,
   "id": "3676626f-5271-46b1-8ee4-e830c4069eb4",
   "metadata": {},
   "outputs": [],
   "source": [
    "# Update this if you're not running locally with the provided Docker instances.\n",
    "USE_TLS = False\n",
    "NEO4J_HOST = \"neo4j.arrow\"\n",
    "NEO4J_URI = f\"neo4j{'+s' * int(USE_TLS)}://{NEO4J_HOST}:7687\"\n",
    "NEO4J_AUTH = (\"neo4j\", \"password\")"
   ]
  },
  {
   "cell_type": "code",
   "execution_count": 3,
   "id": "846f4888-a3ce-4ef2-979d-4bb990602917",
   "metadata": {},
   "outputs": [
    {
     "data": {
      "text/plain": [
       "'2.2.2'"
      ]
     },
     "execution_count": 3,
     "metadata": {},
     "output_type": "execute_result"
    }
   ],
   "source": [
    "import pandas as pd\n",
    "from time import time\n",
    "\n",
    "from graphdatascience import GraphDataScience\n",
    "\n",
    "gds = GraphDataScience(NEO4J_URI, auth=NEO4J_AUTH)\n",
    "\n",
    "gds.version()"
   ]
  },
  {
   "cell_type": "code",
   "execution_count": 4,
   "id": "64b169e9-cd93-49d2-a52c-3b41761d6bd3",
   "metadata": {},
   "outputs": [
    {
     "name": "stdout",
     "output_type": "stream",
     "text": [
      "Your copy of GDS is 'Licensed.'\n"
     ]
    },
    {
     "data": {
      "text/html": [
       "<div>\n",
       "<style scoped>\n",
       "    .dataframe tbody tr th:only-of-type {\n",
       "        vertical-align: middle;\n",
       "    }\n",
       "\n",
       "    .dataframe tbody tr th {\n",
       "        vertical-align: top;\n",
       "    }\n",
       "\n",
       "    .dataframe thead th {\n",
       "        text-align: right;\n",
       "    }\n",
       "</style>\n",
       "<table border=\"1\" class=\"dataframe\">\n",
       "  <thead>\n",
       "    <tr style=\"text-align: right;\">\n",
       "      <th></th>\n",
       "      <th>key</th>\n",
       "      <th>value</th>\n",
       "    </tr>\n",
       "  </thead>\n",
       "  <tbody>\n",
       "    <tr>\n",
       "      <th>0</th>\n",
       "      <td>gdsVersion</td>\n",
       "      <td>2.2.2</td>\n",
       "    </tr>\n",
       "    <tr>\n",
       "      <th>1</th>\n",
       "      <td>gdsEdition</td>\n",
       "      <td>Licensed</td>\n",
       "    </tr>\n",
       "    <tr>\n",
       "      <th>2</th>\n",
       "      <td>gdsLicenseExpirationTime</td>\n",
       "      <td>2022-10-27T07:00:00.000000000+00:00</td>\n",
       "    </tr>\n",
       "    <tr>\n",
       "      <th>3</th>\n",
       "      <td>neo4jVersion</td>\n",
       "      <td>5.1.0</td>\n",
       "    </tr>\n",
       "    <tr>\n",
       "      <th>4</th>\n",
       "      <td>minimumRequiredJavaVersion</td>\n",
       "      <td>11</td>\n",
       "    </tr>\n",
       "    <tr>\n",
       "      <th>...</th>\n",
       "      <td>...</td>\n",
       "      <td>...</td>\n",
       "    </tr>\n",
       "    <tr>\n",
       "      <th>93</th>\n",
       "      <td>server.memory.pagecache.size</td>\n",
       "      <td>1073741824</td>\n",
       "    </tr>\n",
       "    <tr>\n",
       "      <th>94</th>\n",
       "      <td>server.memory.off_heap.max_size</td>\n",
       "      <td>2147483648</td>\n",
       "    </tr>\n",
       "    <tr>\n",
       "      <th>95</th>\n",
       "      <td>dbms.memory.transaction.total.max</td>\n",
       "      <td>0</td>\n",
       "    </tr>\n",
       "    <tr>\n",
       "      <th>96</th>\n",
       "      <td>db.memory.transaction.total.max</td>\n",
       "      <td>0</td>\n",
       "    </tr>\n",
       "    <tr>\n",
       "      <th>97</th>\n",
       "      <td>db.memory.transaction.max</td>\n",
       "      <td>0</td>\n",
       "    </tr>\n",
       "  </tbody>\n",
       "</table>\n",
       "<p>98 rows × 2 columns</p>\n",
       "</div>"
      ],
      "text/plain": [
       "                                  key                                value\n",
       "0                          gdsVersion                                2.2.2\n",
       "1                          gdsEdition                             Licensed\n",
       "2            gdsLicenseExpirationTime  2022-10-27T07:00:00.000000000+00:00\n",
       "3                        neo4jVersion                                5.1.0\n",
       "4          minimumRequiredJavaVersion                                   11\n",
       "..                                ...                                  ...\n",
       "93       server.memory.pagecache.size                           1073741824\n",
       "94    server.memory.off_heap.max_size                           2147483648\n",
       "95  dbms.memory.transaction.total.max                                    0\n",
       "96    db.memory.transaction.total.max                                    0\n",
       "97          db.memory.transaction.max                                    0\n",
       "\n",
       "[98 rows x 2 columns]"
      ]
     },
     "execution_count": 4,
     "metadata": {},
     "output_type": "execute_result"
    }
   ],
   "source": [
    "info = gds.debug.sysInfo()\n",
    "\n",
    "edition = info[info.key == \"gdsEdition\"].value.item()\n",
    "#assert edition == \"Licensed\"\n",
    "\n",
    "print(f\"Your copy of GDS is '{edition}.'\")\n",
    "info"
   ]
  },
  {
   "cell_type": "markdown",
   "id": "940b91cb-4b96-4586-8614-43e520f59a91",
   "metadata": {
    "tags": []
   },
   "source": [
    "## Setting the Database\n",
    "\n",
    "This is simple and required for performing **graph projections**. Simply call `set_database` on the client."
   ]
  },
  {
   "cell_type": "code",
   "execution_count": 5,
   "id": "a4d76d77-9611-41f9-8dab-eeffad1d6599",
   "metadata": {},
   "outputs": [],
   "source": [
    "gds.set_database(\"neo4j\")"
   ]
  },
  {
   "cell_type": "markdown",
   "id": "b51d6e65-3ed4-4a3c-9ff4-50060c756e9d",
   "metadata": {
    "tags": []
   },
   "source": [
    "## Projecting with DataFrames\n",
    "\n",
    "Pandas DataFrames are a _de facto_ standard API across numerous analytics platforms and packages. While many systems implement a portion of the API, we'll be using them directly from the Pandas library itself.\n",
    "\n",
    "An easy way to create a DataFrame is from a Python Dictionary."
   ]
  },
  {
   "cell_type": "code",
   "execution_count": 6,
   "id": "093e2530-7bef-4370-8e02-64d9d9134b7d",
   "metadata": {},
   "outputs": [
    {
     "data": {
      "text/html": [
       "<div>\n",
       "<style scoped>\n",
       "    .dataframe tbody tr th:only-of-type {\n",
       "        vertical-align: middle;\n",
       "    }\n",
       "\n",
       "    .dataframe tbody tr th {\n",
       "        vertical-align: top;\n",
       "    }\n",
       "\n",
       "    .dataframe thead th {\n",
       "        text-align: right;\n",
       "    }\n",
       "</style>\n",
       "<table border=\"1\" class=\"dataframe\">\n",
       "  <thead>\n",
       "    <tr style=\"text-align: right;\">\n",
       "      <th></th>\n",
       "      <th>nodeId</th>\n",
       "      <th>labels</th>\n",
       "      <th>prop1</th>\n",
       "      <th>otherProperty</th>\n",
       "    </tr>\n",
       "  </thead>\n",
       "  <tbody>\n",
       "    <tr>\n",
       "      <th>0</th>\n",
       "      <td>0</td>\n",
       "      <td>A</td>\n",
       "      <td>42</td>\n",
       "      <td>0.1</td>\n",
       "    </tr>\n",
       "    <tr>\n",
       "      <th>1</th>\n",
       "      <td>1</td>\n",
       "      <td>B</td>\n",
       "      <td>1337</td>\n",
       "      <td>0.2</td>\n",
       "    </tr>\n",
       "    <tr>\n",
       "      <th>2</th>\n",
       "      <td>2</td>\n",
       "      <td>C</td>\n",
       "      <td>8</td>\n",
       "      <td>0.3</td>\n",
       "    </tr>\n",
       "    <tr>\n",
       "      <th>3</th>\n",
       "      <td>3</td>\n",
       "      <td>A</td>\n",
       "      <td>0</td>\n",
       "      <td>0.4</td>\n",
       "    </tr>\n",
       "    <tr>\n",
       "      <th>4</th>\n",
       "      <td>60000000</td>\n",
       "      <td>X</td>\n",
       "      <td>0</td>\n",
       "      <td>0.0</td>\n",
       "    </tr>\n",
       "  </tbody>\n",
       "</table>\n",
       "</div>"
      ],
      "text/plain": [
       "     nodeId labels  prop1  otherProperty\n",
       "0         0      A     42            0.1\n",
       "1         1      B   1337            0.2\n",
       "2         2      C      8            0.3\n",
       "3         3      A      0            0.4\n",
       "4  60000000      X      0            0.0"
      ]
     },
     "execution_count": 6,
     "metadata": {},
     "output_type": "execute_result"
    }
   ],
   "source": [
    "# Create our Nodes DataFrame\n",
    "nodes = pd.DataFrame(\n",
    "    {\n",
    "        \"nodeId\": [0, 1, 2, 3, 60_000_000],\n",
    "        \"labels\":  [\"A\", \"B\", \"C\", \"A\", \"X\"],\n",
    "        \"prop1\": [42, 1337, 8, 0, 0],\n",
    "        \"otherProperty\": [0.1, 0.2, 0.3, 0.4, 0.0]\n",
    "    }\n",
    ")\n",
    "\n",
    "nodes"
   ]
  },
  {
   "cell_type": "code",
   "execution_count": 7,
   "id": "201d7a02-c78c-444f-b8b7-688359831bd8",
   "metadata": {},
   "outputs": [
    {
     "data": {
      "text/html": [
       "<div>\n",
       "<style scoped>\n",
       "    .dataframe tbody tr th:only-of-type {\n",
       "        vertical-align: middle;\n",
       "    }\n",
       "\n",
       "    .dataframe tbody tr th {\n",
       "        vertical-align: top;\n",
       "    }\n",
       "\n",
       "    .dataframe thead th {\n",
       "        text-align: right;\n",
       "    }\n",
       "</style>\n",
       "<table border=\"1\" class=\"dataframe\">\n",
       "  <thead>\n",
       "    <tr style=\"text-align: right;\">\n",
       "      <th></th>\n",
       "      <th>sourceNodeId</th>\n",
       "      <th>targetNodeId</th>\n",
       "      <th>relationshipType</th>\n",
       "      <th>weight</th>\n",
       "    </tr>\n",
       "  </thead>\n",
       "  <tbody>\n",
       "    <tr>\n",
       "      <th>0</th>\n",
       "      <td>0</td>\n",
       "      <td>1</td>\n",
       "      <td>REL</td>\n",
       "      <td>0.0</td>\n",
       "    </tr>\n",
       "    <tr>\n",
       "      <th>1</th>\n",
       "      <td>1</td>\n",
       "      <td>2</td>\n",
       "      <td>REL</td>\n",
       "      <td>0.0</td>\n",
       "    </tr>\n",
       "    <tr>\n",
       "      <th>2</th>\n",
       "      <td>2</td>\n",
       "      <td>3</td>\n",
       "      <td>REL</td>\n",
       "      <td>0.1</td>\n",
       "    </tr>\n",
       "    <tr>\n",
       "      <th>3</th>\n",
       "      <td>60000000</td>\n",
       "      <td>60000000</td>\n",
       "      <td>REL</td>\n",
       "      <td>42.0</td>\n",
       "    </tr>\n",
       "  </tbody>\n",
       "</table>\n",
       "</div>"
      ],
      "text/plain": [
       "   sourceNodeId  targetNodeId relationshipType  weight\n",
       "0             0             1              REL     0.0\n",
       "1             1             2              REL     0.0\n",
       "2             2             3              REL     0.1\n",
       "3      60000000      60000000              REL    42.0"
      ]
     },
     "execution_count": 7,
     "metadata": {},
     "output_type": "execute_result"
    }
   ],
   "source": [
    "# Create our Relationships DataFrame\n",
    "relationships = pd.DataFrame(\n",
    "    {\n",
    "        \"sourceNodeId\": [0, 1, 2, 60_000_000],\n",
    "        \"targetNodeId\": [1, 2, 3, 60_000_000],\n",
    "        \"relationshipType\": [\"REL\", \"REL\", \"REL\", \"REL\"],\n",
    "        \"weight\": [0.0, 0.0, 0.1, 42.0]\n",
    "    }\n",
    ")\n",
    "\n",
    "relationships"
   ]
  },
  {
   "cell_type": "markdown",
   "id": "39b85e29-e232-4aad-9366-c0820b8e77fa",
   "metadata": {
    "tags": []
   },
   "source": [
    "## Project our Graph\n",
    "\n",
    "Creating a graph projection from DataFrames is easy and made possible by GDS's **Arrow Flight** service."
   ]
  },
  {
   "cell_type": "code",
   "execution_count": 8,
   "id": "651f812f-4e16-476b-a879-1b3e2a83e50c",
   "metadata": {},
   "outputs": [
    {
     "data": {
      "text/plain": [
       "'9985 KiB'"
      ]
     },
     "execution_count": 8,
     "metadata": {},
     "output_type": "execute_result"
    }
   ],
   "source": [
    "G = gds.alpha.graph.construct(\n",
    "    f\"my-graph-{time()}\",   # Graph name\n",
    "    nodes,                     # One or more dataframes containing node data\n",
    "    relationships              # One or more dataframes containing relationship data\n",
    ")\n",
    "G.memory_usage()"
   ]
  },
  {
   "cell_type": "markdown",
   "id": "c957dbab-9d0d-41a8-963d-48f401325c44",
   "metadata": {},
   "source": [
    "Neo4j logs should show:\n",
    "\n",
    "```\n",
    "2022-09-08 15:47:28.464+0000 INFO  [system/00000000] Received action CREATE_GRAPH with configuration CreateGraphAction{name=my-graph, databaseName=neo4j, concurrency=8}\n",
    "2022-09-08 15:47:28.484+0000 INFO  [system/00000000] Put stream started\n",
    "2022-09-08 15:47:28.498+0000 INFO  [system/00000000] Put command: PutCommand{name=my-graph, entityType=node}\n",
    "2022-09-08 15:47:28.515+0000 INFO  [system/00000000] Received action NODE_LOAD_DONE with configuration NodeLoadDoneAction{name=my-graph}\n",
    "2022-09-08 15:47:28.536+0000 INFO  [system/00000000] Put stream started\n",
    "2022-09-08 15:47:28.537+0000 INFO  [system/00000000] Put command: PutCommand{name=my-graph, entityType=relationship}\n",
    "2022-09-08 15:47:28.554+0000 INFO  [system/00000000] Received action RELATIONSHIP_LOAD_DONE with configuration RelationshipLoadDoneAction{name=my-graph}\n",
    "```"
   ]
  },
  {
   "cell_type": "markdown",
   "id": "79c34088-784c-4ee5-8803-df3efb7c35ae",
   "metadata": {
    "tags": []
   },
   "source": [
    "## Refresher: Using the Graph Object\n",
    "\n",
    "- running an algo\n",
    "- dropping the graph"
   ]
  },
  {
   "cell_type": "code",
   "execution_count": 9,
   "id": "962a9dc4-eab0-4289-9a4b-9e4619badf78",
   "metadata": {},
   "outputs": [
    {
     "data": {
      "text/html": [
       "<div>\n",
       "<style scoped>\n",
       "    .dataframe tbody tr th:only-of-type {\n",
       "        vertical-align: middle;\n",
       "    }\n",
       "\n",
       "    .dataframe tbody tr th {\n",
       "        vertical-align: top;\n",
       "    }\n",
       "\n",
       "    .dataframe thead th {\n",
       "        text-align: right;\n",
       "    }\n",
       "</style>\n",
       "<table border=\"1\" class=\"dataframe\">\n",
       "  <thead>\n",
       "    <tr style=\"text-align: right;\">\n",
       "      <th></th>\n",
       "      <th>nodeId</th>\n",
       "      <th>componentId</th>\n",
       "    </tr>\n",
       "  </thead>\n",
       "  <tbody>\n",
       "    <tr>\n",
       "      <th>0</th>\n",
       "      <td>0</td>\n",
       "      <td>0</td>\n",
       "    </tr>\n",
       "    <tr>\n",
       "      <th>1</th>\n",
       "      <td>1</td>\n",
       "      <td>0</td>\n",
       "    </tr>\n",
       "    <tr>\n",
       "      <th>2</th>\n",
       "      <td>2</td>\n",
       "      <td>0</td>\n",
       "    </tr>\n",
       "    <tr>\n",
       "      <th>3</th>\n",
       "      <td>3</td>\n",
       "      <td>0</td>\n",
       "    </tr>\n",
       "    <tr>\n",
       "      <th>4</th>\n",
       "      <td>60000000</td>\n",
       "      <td>4</td>\n",
       "    </tr>\n",
       "  </tbody>\n",
       "</table>\n",
       "</div>"
      ],
      "text/plain": [
       "     nodeId  componentId\n",
       "0         0            0\n",
       "1         1            0\n",
       "2         2            0\n",
       "3         3            0\n",
       "4  60000000            4"
      ]
     },
     "execution_count": 9,
     "metadata": {},
     "output_type": "execute_result"
    }
   ],
   "source": [
    "# Quick refresher...running algos is easy with the Graph object:\n",
    "\n",
    "gds.wcc.stream(G)"
   ]
  },
  {
   "cell_type": "code",
   "execution_count": 10,
   "id": "bcc84c52-f9e6-4c68-b58f-03999006716d",
   "metadata": {},
   "outputs": [
    {
     "data": {
      "text/plain": [
       "graphName                                  my-graph-1666720297.3877385\n",
       "database                                                         neo4j\n",
       "memoryUsage                                                           \n",
       "sizeInBytes                                                         -1\n",
       "nodeCount                                                            5\n",
       "relationshipCount                                                    4\n",
       "configuration                                                       {}\n",
       "density                                                            0.2\n",
       "creationTime                       2022-10-25T17:51:37.670123550+00:00\n",
       "modificationTime                   2022-10-25T17:51:37.669751808+00:00\n",
       "schema               {'graphProperties': {}, 'relationships': {'REL...\n",
       "Name: 0, dtype: object"
      ]
     },
     "execution_count": 10,
     "metadata": {},
     "output_type": "execute_result"
    }
   ],
   "source": [
    "# Let's drop the graph.\n",
    "\n",
    "G.drop()"
   ]
  },
  {
   "cell_type": "markdown",
   "id": "bf701d50-e651-4312-b103-f844f961e027",
   "metadata": {},
   "source": [
    "# ~~ _fin_ ~~"
   ]
  },
  {
   "cell_type": "code",
   "execution_count": null,
   "id": "a6ed278c-89d0-4ffc-bc6e-330d42476be3",
   "metadata": {},
   "outputs": [],
   "source": []
  }
 ],
 "metadata": {
  "kernelspec": {
   "display_name": "Python 3 (ipykernel)",
   "language": "python",
   "name": "python3"
  },
  "language_info": {
   "codemirror_mode": {
    "name": "ipython",
    "version": 3
   },
   "file_extension": ".py",
   "mimetype": "text/x-python",
   "name": "python",
   "nbconvert_exporter": "python",
   "pygments_lexer": "ipython3",
   "version": "3.10.6"
  }
 },
 "nbformat": 4,
 "nbformat_minor": 5
}
